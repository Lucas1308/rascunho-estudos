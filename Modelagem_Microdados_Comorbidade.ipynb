{
  "nbformat": 4,
  "nbformat_minor": 0,
  "metadata": {
    "colab": {
      "name": "Modelagem-Microdados-Comorbidade.ipynb",
      "provenance": [],
      "collapsed_sections": []
    },
    "kernelspec": {
      "name": "python3",
      "display_name": "Python 3"
    },
    "language_info": {
      "name": "python"
    }
  },
  "cells": [
    {
      "cell_type": "markdown",
      "source": [
        "\n",
        "# Modelos de classificação de risco para o Covid-19\n",
        "** **\n",
        "\n",
        "**Francisco R. D Miranda - Predict / ICMC**\n",
        "\n",
        "**Lucas R. O. Lopes - Predict / ICMC**\n",
        "\n",
        "**Março 2022**\n",
        "** **"
      ],
      "metadata": {
        "id": "cT9hpqjAX1O1"
      }
    },
    {
      "cell_type": "code",
      "execution_count": null,
      "metadata": {
        "id": "8_ufwfY7KjDy",
        "colab": {
          "base_uri": "https://localhost:8080/"
        },
        "outputId": "1fda983a-e5af-4d1d-c62c-6d46a46835d6"
      },
      "outputs": [
        {
          "output_type": "stream",
          "name": "stderr",
          "text": [
            "/usr/local/lib/python3.7/dist-packages/statsmodels/tools/_testing.py:19: FutureWarning: pandas.util.testing is deprecated. Use the functions in the public API at pandas.testing instead.\n",
            "  import pandas.util.testing as tm\n"
          ]
        }
      ],
      "source": [
        "import pandas as pd\n",
        "import numpy as np\n",
        "import seaborn as sns\n",
        "import matplotlib.pyplot as plt\n",
        "import statsmodels.api as sm\n",
        "import random\n",
        "from sklearn.model_selection import train_test_split\n",
        "from statsmodels.tools.eval_measures import mse, meanabs"
      ]
    },
    {
      "cell_type": "markdown",
      "source": [
        "#**Dados Completos**"
      ],
      "metadata": {
        "id": "6rQNeKwLQ2pV"
      }
    },
    {
      "cell_type": "code",
      "source": [
        "url = \"https://github.com/seade-R/dados-covid-sp/raw/66903d66449c7694438451ba553dee874c8417f1/data/casos_obitos_doencas_preexistentes.csv.zip\"\n",
        "\n",
        "df = pd.read_csv(url, sep=';')   "
      ],
      "metadata": {
        "id": "LCXm8D0QQ7jW"
      },
      "execution_count": null,
      "outputs": []
    },
    {
      "cell_type": "markdown",
      "source": [
        "##**Tratamento dos Dados**"
      ],
      "metadata": {
        "id": "toJLTNWsWkpx"
      }
    },
    {
      "cell_type": "code",
      "source": [
        "fatores = ['asma', 'cardiopatia', 'diabetes', 'doenca_hematologica', 'doenca_hepatica',\n",
        "'doenca_neurologica', 'doenca_renal', 'imunodepressao', 'obesidade', 'outros_fatores_de_risco',\n",
        "'pneumopatia','puerpera','sindrome_de_down']"
      ],
      "metadata": {
        "id": "yKFBJkImRCj8"
      },
      "execution_count": null,
      "outputs": []
    },
    {
      "cell_type": "code",
      "source": [
        "# assign 'SIM' = 1 and 'NÃO' = 0 and 'NÃO INFORMADO' = NaN and 'NÃO SABE' = NaN and 'IGNORADO' = NaN in fatores\n",
        "for f in fatores:\n",
        "    df[f] = df[f].replace(['SIM', 'NÃO', 'NÃO INFORMADO', 'NÃO SABE', 'IGNORADO'], [1, 0, 0, 0, 0])\n",
        "\n",
        "#count NaN values for each f in fatores\n",
        "df_na = df[fatores].isna().sum()\n",
        "\n",
        "# transformando sexo em dummy \n",
        "df = pd.concat([df[fatores + ['idade'] + ['obito']], pd.get_dummies(df['cs_sexo'])], axis=1).dropna()\n"
      ],
      "metadata": {
        "id": "QW326FGVRVQA"
      },
      "execution_count": null,
      "outputs": []
    },
    {
      "cell_type": "code",
      "source": [
        "print(f'Dataset possui {df.shape[0]} linhas e {df.shape[1]} colunas')\n",
        "df.head()\n"
      ],
      "metadata": {
        "colab": {
          "base_uri": "https://localhost:8080/",
          "height": 288
        },
        "id": "LzWJ13_HRaX7",
        "outputId": "6fa0b307-4806-41c9-cf77-3e155a756e2e"
      },
      "execution_count": null,
      "outputs": [
        {
          "output_type": "stream",
          "name": "stdout",
          "text": [
            "Dataset possui 4046548 linhas e 19 colunas\n"
          ]
        },
        {
          "output_type": "execute_result",
          "data": {
            "text/plain": [
              "   asma  cardiopatia  diabetes  doenca_hematologica  doenca_hepatica  \\\n",
              "0     0            1         0                    0                0   \n",
              "1     0            0         0                    0                0   \n",
              "2     0            0         0                    0                0   \n",
              "3     0            0         0                    0                0   \n",
              "4     0            0         0                    0                0   \n",
              "\n",
              "   doenca_neurologica  doenca_renal  imunodepressao  obesidade  \\\n",
              "0                   0             0               0          0   \n",
              "1                   0             0               0          0   \n",
              "2                   0             0               0          0   \n",
              "3                   0             0               0          0   \n",
              "4                   0             0               0          0   \n",
              "\n",
              "   outros_fatores_de_risco  pneumopatia  puerpera  sindrome_de_down  idade  \\\n",
              "0                        0            0         0                 0   51.0   \n",
              "1                        0            0         0                 0   50.0   \n",
              "2                        0            0         0                 0   17.0   \n",
              "3                        0            0         0                 0   67.0   \n",
              "4                        0            0         0                 0   55.0   \n",
              "\n",
              "   obito  FEMININO  IGNORADO  INDEFINIDO  MASCULINO  \n",
              "0      0         1         0           0          0  \n",
              "1      0         1         0           0          0  \n",
              "2      0         1         0           0          0  \n",
              "3      0         1         0           0          0  \n",
              "4      0         1         0           0          0  "
            ],
            "text/html": [
              "\n",
              "  <div id=\"df-871f8855-727d-4a9d-a5ae-7235999d9188\">\n",
              "    <div class=\"colab-df-container\">\n",
              "      <div>\n",
              "<style scoped>\n",
              "    .dataframe tbody tr th:only-of-type {\n",
              "        vertical-align: middle;\n",
              "    }\n",
              "\n",
              "    .dataframe tbody tr th {\n",
              "        vertical-align: top;\n",
              "    }\n",
              "\n",
              "    .dataframe thead th {\n",
              "        text-align: right;\n",
              "    }\n",
              "</style>\n",
              "<table border=\"1\" class=\"dataframe\">\n",
              "  <thead>\n",
              "    <tr style=\"text-align: right;\">\n",
              "      <th></th>\n",
              "      <th>asma</th>\n",
              "      <th>cardiopatia</th>\n",
              "      <th>diabetes</th>\n",
              "      <th>doenca_hematologica</th>\n",
              "      <th>doenca_hepatica</th>\n",
              "      <th>doenca_neurologica</th>\n",
              "      <th>doenca_renal</th>\n",
              "      <th>imunodepressao</th>\n",
              "      <th>obesidade</th>\n",
              "      <th>outros_fatores_de_risco</th>\n",
              "      <th>pneumopatia</th>\n",
              "      <th>puerpera</th>\n",
              "      <th>sindrome_de_down</th>\n",
              "      <th>idade</th>\n",
              "      <th>obito</th>\n",
              "      <th>FEMININO</th>\n",
              "      <th>IGNORADO</th>\n",
              "      <th>INDEFINIDO</th>\n",
              "      <th>MASCULINO</th>\n",
              "    </tr>\n",
              "  </thead>\n",
              "  <tbody>\n",
              "    <tr>\n",
              "      <th>0</th>\n",
              "      <td>0</td>\n",
              "      <td>1</td>\n",
              "      <td>0</td>\n",
              "      <td>0</td>\n",
              "      <td>0</td>\n",
              "      <td>0</td>\n",
              "      <td>0</td>\n",
              "      <td>0</td>\n",
              "      <td>0</td>\n",
              "      <td>0</td>\n",
              "      <td>0</td>\n",
              "      <td>0</td>\n",
              "      <td>0</td>\n",
              "      <td>51.0</td>\n",
              "      <td>0</td>\n",
              "      <td>1</td>\n",
              "      <td>0</td>\n",
              "      <td>0</td>\n",
              "      <td>0</td>\n",
              "    </tr>\n",
              "    <tr>\n",
              "      <th>1</th>\n",
              "      <td>0</td>\n",
              "      <td>0</td>\n",
              "      <td>0</td>\n",
              "      <td>0</td>\n",
              "      <td>0</td>\n",
              "      <td>0</td>\n",
              "      <td>0</td>\n",
              "      <td>0</td>\n",
              "      <td>0</td>\n",
              "      <td>0</td>\n",
              "      <td>0</td>\n",
              "      <td>0</td>\n",
              "      <td>0</td>\n",
              "      <td>50.0</td>\n",
              "      <td>0</td>\n",
              "      <td>1</td>\n",
              "      <td>0</td>\n",
              "      <td>0</td>\n",
              "      <td>0</td>\n",
              "    </tr>\n",
              "    <tr>\n",
              "      <th>2</th>\n",
              "      <td>0</td>\n",
              "      <td>0</td>\n",
              "      <td>0</td>\n",
              "      <td>0</td>\n",
              "      <td>0</td>\n",
              "      <td>0</td>\n",
              "      <td>0</td>\n",
              "      <td>0</td>\n",
              "      <td>0</td>\n",
              "      <td>0</td>\n",
              "      <td>0</td>\n",
              "      <td>0</td>\n",
              "      <td>0</td>\n",
              "      <td>17.0</td>\n",
              "      <td>0</td>\n",
              "      <td>1</td>\n",
              "      <td>0</td>\n",
              "      <td>0</td>\n",
              "      <td>0</td>\n",
              "    </tr>\n",
              "    <tr>\n",
              "      <th>3</th>\n",
              "      <td>0</td>\n",
              "      <td>0</td>\n",
              "      <td>0</td>\n",
              "      <td>0</td>\n",
              "      <td>0</td>\n",
              "      <td>0</td>\n",
              "      <td>0</td>\n",
              "      <td>0</td>\n",
              "      <td>0</td>\n",
              "      <td>0</td>\n",
              "      <td>0</td>\n",
              "      <td>0</td>\n",
              "      <td>0</td>\n",
              "      <td>67.0</td>\n",
              "      <td>0</td>\n",
              "      <td>1</td>\n",
              "      <td>0</td>\n",
              "      <td>0</td>\n",
              "      <td>0</td>\n",
              "    </tr>\n",
              "    <tr>\n",
              "      <th>4</th>\n",
              "      <td>0</td>\n",
              "      <td>0</td>\n",
              "      <td>0</td>\n",
              "      <td>0</td>\n",
              "      <td>0</td>\n",
              "      <td>0</td>\n",
              "      <td>0</td>\n",
              "      <td>0</td>\n",
              "      <td>0</td>\n",
              "      <td>0</td>\n",
              "      <td>0</td>\n",
              "      <td>0</td>\n",
              "      <td>0</td>\n",
              "      <td>55.0</td>\n",
              "      <td>0</td>\n",
              "      <td>1</td>\n",
              "      <td>0</td>\n",
              "      <td>0</td>\n",
              "      <td>0</td>\n",
              "    </tr>\n",
              "  </tbody>\n",
              "</table>\n",
              "</div>\n",
              "      <button class=\"colab-df-convert\" onclick=\"convertToInteractive('df-871f8855-727d-4a9d-a5ae-7235999d9188')\"\n",
              "              title=\"Convert this dataframe to an interactive table.\"\n",
              "              style=\"display:none;\">\n",
              "        \n",
              "  <svg xmlns=\"http://www.w3.org/2000/svg\" height=\"24px\"viewBox=\"0 0 24 24\"\n",
              "       width=\"24px\">\n",
              "    <path d=\"M0 0h24v24H0V0z\" fill=\"none\"/>\n",
              "    <path d=\"M18.56 5.44l.94 2.06.94-2.06 2.06-.94-2.06-.94-.94-2.06-.94 2.06-2.06.94zm-11 1L8.5 8.5l.94-2.06 2.06-.94-2.06-.94L8.5 2.5l-.94 2.06-2.06.94zm10 10l.94 2.06.94-2.06 2.06-.94-2.06-.94-.94-2.06-.94 2.06-2.06.94z\"/><path d=\"M17.41 7.96l-1.37-1.37c-.4-.4-.92-.59-1.43-.59-.52 0-1.04.2-1.43.59L10.3 9.45l-7.72 7.72c-.78.78-.78 2.05 0 2.83L4 21.41c.39.39.9.59 1.41.59.51 0 1.02-.2 1.41-.59l7.78-7.78 2.81-2.81c.8-.78.8-2.07 0-2.86zM5.41 20L4 18.59l7.72-7.72 1.47 1.35L5.41 20z\"/>\n",
              "  </svg>\n",
              "      </button>\n",
              "      \n",
              "  <style>\n",
              "    .colab-df-container {\n",
              "      display:flex;\n",
              "      flex-wrap:wrap;\n",
              "      gap: 12px;\n",
              "    }\n",
              "\n",
              "    .colab-df-convert {\n",
              "      background-color: #E8F0FE;\n",
              "      border: none;\n",
              "      border-radius: 50%;\n",
              "      cursor: pointer;\n",
              "      display: none;\n",
              "      fill: #1967D2;\n",
              "      height: 32px;\n",
              "      padding: 0 0 0 0;\n",
              "      width: 32px;\n",
              "    }\n",
              "\n",
              "    .colab-df-convert:hover {\n",
              "      background-color: #E2EBFA;\n",
              "      box-shadow: 0px 1px 2px rgba(60, 64, 67, 0.3), 0px 1px 3px 1px rgba(60, 64, 67, 0.15);\n",
              "      fill: #174EA6;\n",
              "    }\n",
              "\n",
              "    [theme=dark] .colab-df-convert {\n",
              "      background-color: #3B4455;\n",
              "      fill: #D2E3FC;\n",
              "    }\n",
              "\n",
              "    [theme=dark] .colab-df-convert:hover {\n",
              "      background-color: #434B5C;\n",
              "      box-shadow: 0px 1px 3px 1px rgba(0, 0, 0, 0.15);\n",
              "      filter: drop-shadow(0px 1px 2px rgba(0, 0, 0, 0.3));\n",
              "      fill: #FFFFFF;\n",
              "    }\n",
              "  </style>\n",
              "\n",
              "      <script>\n",
              "        const buttonEl =\n",
              "          document.querySelector('#df-871f8855-727d-4a9d-a5ae-7235999d9188 button.colab-df-convert');\n",
              "        buttonEl.style.display =\n",
              "          google.colab.kernel.accessAllowed ? 'block' : 'none';\n",
              "\n",
              "        async function convertToInteractive(key) {\n",
              "          const element = document.querySelector('#df-871f8855-727d-4a9d-a5ae-7235999d9188');\n",
              "          const dataTable =\n",
              "            await google.colab.kernel.invokeFunction('convertToInteractive',\n",
              "                                                     [key], {});\n",
              "          if (!dataTable) return;\n",
              "\n",
              "          const docLinkHtml = 'Like what you see? Visit the ' +\n",
              "            '<a target=\"_blank\" href=https://colab.research.google.com/notebooks/data_table.ipynb>data table notebook</a>'\n",
              "            + ' to learn more about interactive tables.';\n",
              "          element.innerHTML = '';\n",
              "          dataTable['output_type'] = 'display_data';\n",
              "          await google.colab.output.renderOutput(dataTable, element);\n",
              "          const docLink = document.createElement('div');\n",
              "          docLink.innerHTML = docLinkHtml;\n",
              "          element.appendChild(docLink);\n",
              "        }\n",
              "      </script>\n",
              "    </div>\n",
              "  </div>\n",
              "  "
            ]
          },
          "metadata": {},
          "execution_count": 6
        }
      ]
    },
    {
      "cell_type": "code",
      "source": [
        "df.to_csv(\"df.csv\")"
      ],
      "metadata": {
        "id": "2meFiNsePz-m"
      },
      "execution_count": null,
      "outputs": []
    },
    {
      "cell_type": "code",
      "source": [
        "df['doenca_hematologica'].value_counts()"
      ],
      "metadata": {
        "colab": {
          "base_uri": "https://localhost:8080/"
        },
        "id": "YUTW94p-Hzri",
        "outputId": "dea13063-5203-4274-af11-04cd5c6ae4c7"
      },
      "execution_count": null,
      "outputs": [
        {
          "output_type": "execute_result",
          "data": {
            "text/plain": [
              "0    4043454\n",
              "1       3094\n",
              "Name: doenca_hematologica, dtype: int64"
            ]
          },
          "metadata": {},
          "execution_count": 9
        }
      ]
    },
    {
      "cell_type": "code",
      "source": [
        "df.shape"
      ],
      "metadata": {
        "colab": {
          "base_uri": "https://localhost:8080/"
        },
        "id": "2Coyg-q2a_ey",
        "outputId": "98793756-4410-4772-8898-75ab2c8b5cbe"
      },
      "execution_count": null,
      "outputs": [
        {
          "output_type": "execute_result",
          "data": {
            "text/plain": [
              "(4046548, 19)"
            ]
          },
          "metadata": {},
          "execution_count": 34
        }
      ]
    },
    {
      "cell_type": "markdown",
      "source": [
        "##**Análise exploratória dos dados**"
      ],
      "metadata": {
        "id": "m7EHHsaYSeqM"
      }
    },
    {
      "cell_type": "markdown",
      "source": [
        "Balanceamento da variável resposta"
      ],
      "metadata": {
        "id": "QTEOfV7PSRnu"
      }
    },
    {
      "cell_type": "code",
      "source": [
        "df['obito'].value_counts(normalize = True)"
      ],
      "metadata": {
        "colab": {
          "base_uri": "https://localhost:8080/"
        },
        "id": "kppCjhzeSIzc",
        "outputId": "714ce0df-a79e-4295-ef46-38eaee301e6a"
      },
      "execution_count": null,
      "outputs": [
        {
          "output_type": "execute_result",
          "data": {
            "text/plain": [
              "0    0.965651\n",
              "1    0.034349\n",
              "Name: obito, dtype: float64"
            ]
          },
          "metadata": {},
          "execution_count": 18
        }
      ]
    },
    {
      "cell_type": "code",
      "source": [
        "plt.figure(figsize = (8,8))\n",
        "plt.title(\"Balanceamento de óbitos\",size = 15)\n",
        "sns.countplot(data = df, x = 'obito').set_xticklabels(['Recuperados','Óbitos'])\n",
        "plt.ylabel(\"Quantidade\")\n",
        "plt.xlabel(\"\")\n",
        "plt.show()"
      ],
      "metadata": {
        "colab": {
          "base_uri": "https://localhost:8080/",
          "height": 503
        },
        "id": "f77edZrBUJBR",
        "outputId": "cd7d4717-f245-4654-98b6-1bb6b2d1b9fa"
      },
      "execution_count": null,
      "outputs": [
        {
          "output_type": "display_data",
          "data": {
            "text/plain": [
              "<Figure size 576x576 with 1 Axes>"
            ],
            "image/png": "[encoded data removed]"
          },
          "metadata": {}
        }
      ]
    },
    {
      "cell_type": "markdown",
      "source": [
        "Contagem de óbitos por cada fator"
      ],
      "metadata": {
        "id": "tFNm97jYTIAy"
      }
    },
    {
      "cell_type": "code",
      "source": [
        "df.groupby(by = \"obito\")[fatores].sum()"
      ],
      "metadata": {
        "colab": {
          "base_uri": "https://localhost:8080/",
          "height": 207
        },
        "id": "gkXdCAgfSu8y",
        "outputId": "94b826dd-2b76-4b4a-993a-e1545241c758"
      },
      "execution_count": null,
      "outputs": [
        {
          "output_type": "execute_result",
          "data": {
            "text/plain": [
              "       asma  cardiopatia  diabetes  doenca_hematologica  doenca_hepatica  \\\n",
              "obito                                                                      \n",
              "0      9192       278629    179964                 1802             1747   \n",
              "1      3116        58723     42595                 1292             1680   \n",
              "\n",
              "       doenca_neurologica  doenca_renal  imunodepressao  obesidade  \\\n",
              "obito                                                                \n",
              "0                    7307         15024           22141      25454   \n",
              "1                    7912          7423            4353      14134   \n",
              "\n",
              "       outros_fatores_de_risco  pneumopatia  puerpera  sindrome_de_down  \n",
              "obito                                                                    \n",
              "0                        71304         7048       981               738  \n",
              "1                        41242         6447       243               440  "
            ],
            "text/html": [
              "\n",
              "  <div id=\"df-73bd8d97-2085-4878-b922-a805904c8ada\">\n",
              "    <div class=\"colab-df-container\">\n",
              "      <div>\n",
              "<style scoped>\n",
              "    .dataframe tbody tr th:only-of-type {\n",
              "        vertical-align: middle;\n",
              "    }\n",
              "\n",
              "    .dataframe tbody tr th {\n",
              "        vertical-align: top;\n",
              "    }\n",
              "\n",
              "    .dataframe thead th {\n",
              "        text-align: right;\n",
              "    }\n",
              "</style>\n",
              "<table border=\"1\" class=\"dataframe\">\n",
              "  <thead>\n",
              "    <tr style=\"text-align: right;\">\n",
              "      <th></th>\n",
              "      <th>asma</th>\n",
              "      <th>cardiopatia</th>\n",
              "      <th>diabetes</th>\n",
              "      <th>doenca_hematologica</th>\n",
              "      <th>doenca_hepatica</th>\n",
              "      <th>doenca_neurologica</th>\n",
              "      <th>doenca_renal</th>\n",
              "      <th>imunodepressao</th>\n",
              "      <th>obesidade</th>\n",
              "      <th>outros_fatores_de_risco</th>\n",
              "      <th>pneumopatia</th>\n",
              "      <th>puerpera</th>\n",
              "      <th>sindrome_de_down</th>\n",
              "    </tr>\n",
              "    <tr>\n",
              "      <th>obito</th>\n",
              "      <th></th>\n",
              "      <th></th>\n",
              "      <th></th>\n",
              "      <th></th>\n",
              "      <th></th>\n",
              "      <th></th>\n",
              "      <th></th>\n",
              "      <th></th>\n",
              "      <th></th>\n",
              "      <th></th>\n",
              "      <th></th>\n",
              "      <th></th>\n",
              "      <th></th>\n",
              "    </tr>\n",
              "  </thead>\n",
              "  <tbody>\n",
              "    <tr>\n",
              "      <th>0</th>\n",
              "      <td>9192</td>\n",
              "      <td>278629</td>\n",
              "      <td>179964</td>\n",
              "      <td>1802</td>\n",
              "      <td>1747</td>\n",
              "      <td>7307</td>\n",
              "      <td>15024</td>\n",
              "      <td>22141</td>\n",
              "      <td>25454</td>\n",
              "      <td>71304</td>\n",
              "      <td>7048</td>\n",
              "      <td>981</td>\n",
              "      <td>738</td>\n",
              "    </tr>\n",
              "    <tr>\n",
              "      <th>1</th>\n",
              "      <td>3116</td>\n",
              "      <td>58723</td>\n",
              "      <td>42595</td>\n",
              "      <td>1292</td>\n",
              "      <td>1680</td>\n",
              "      <td>7912</td>\n",
              "      <td>7423</td>\n",
              "      <td>4353</td>\n",
              "      <td>14134</td>\n",
              "      <td>41242</td>\n",
              "      <td>6447</td>\n",
              "      <td>243</td>\n",
              "      <td>440</td>\n",
              "    </tr>\n",
              "  </tbody>\n",
              "</table>\n",
              "</div>\n",
              "      <button class=\"colab-df-convert\" onclick=\"convertToInteractive('df-73bd8d97-2085-4878-b922-a805904c8ada')\"\n",
              "              title=\"Convert this dataframe to an interactive table.\"\n",
              "              style=\"display:none;\">\n",
              "        \n",
              "  <svg xmlns=\"http://www.w3.org/2000/svg\" height=\"24px\"viewBox=\"0 0 24 24\"\n",
              "       width=\"24px\">\n",
              "    <path d=\"M0 0h24v24H0V0z\" fill=\"none\"/>\n",
              "    <path d=\"M18.56 5.44l.94 2.06.94-2.06 2.06-.94-2.06-.94-.94-2.06-.94 2.06-2.06.94zm-11 1L8.5 8.5l.94-2.06 2.06-.94-2.06-.94L8.5 2.5l-.94 2.06-2.06.94zm10 10l.94 2.06.94-2.06 2.06-.94-2.06-.94-.94-2.06-.94 2.06-2.06.94z\"/><path d=\"M17.41 7.96l-1.37-1.37c-.4-.4-.92-.59-1.43-.59-.52 0-1.04.2-1.43.59L10.3 9.45l-7.72 7.72c-.78.78-.78 2.05 0 2.83L4 21.41c.39.39.9.59 1.41.59.51 0 1.02-.2 1.41-.59l7.78-7.78 2.81-2.81c.8-.78.8-2.07 0-2.86zM5.41 20L4 18.59l7.72-7.72 1.47 1.35L5.41 20z\"/>\n",
              "  </svg>\n",
              "      </button>\n",
              "      \n",
              "  <style>\n",
              "    .colab-df-container {\n",
              "      display:flex;\n",
              "      flex-wrap:wrap;\n",
              "      gap: 12px;\n",
              "    }\n",
              "\n",
              "    .colab-df-convert {\n",
              "      background-color: #E8F0FE;\n",
              "      border: none;\n",
              "      border-radius: 50%;\n",
              "      cursor: pointer;\n",
              "      display: none;\n",
              "      fill: #1967D2;\n",
              "      height: 32px;\n",
              "      padding: 0 0 0 0;\n",
              "      width: 32px;\n",
              "    }\n",
              "\n",
              "    .colab-df-convert:hover {\n",
              "      background-color: #E2EBFA;\n",
              "      box-shadow: 0px 1px 2px rgba(60, 64, 67, 0.3), 0px 1px 3px 1px rgba(60, 64, 67, 0.15);\n",
              "      fill: #174EA6;\n",
              "    }\n",
              "\n",
              "    [theme=dark] .colab-df-convert {\n",
              "      background-color: #3B4455;\n",
              "      fill: #D2E3FC;\n",
              "    }\n",
              "\n",
              "    [theme=dark] .colab-df-convert:hover {\n",
              "      background-color: #434B5C;\n",
              "      box-shadow: 0px 1px 3px 1px rgba(0, 0, 0, 0.15);\n",
              "      filter: drop-shadow(0px 1px 2px rgba(0, 0, 0, 0.3));\n",
              "      fill: #FFFFFF;\n",
              "    }\n",
              "  </style>\n",
              "\n",
              "      <script>\n",
              "        const buttonEl =\n",
              "          document.querySelector('#df-73bd8d97-2085-4878-b922-a805904c8ada button.colab-df-convert');\n",
              "        buttonEl.style.display =\n",
              "          google.colab.kernel.accessAllowed ? 'block' : 'none';\n",
              "\n",
              "        async function convertToInteractive(key) {\n",
              "          const element = document.querySelector('#df-73bd8d97-2085-4878-b922-a805904c8ada');\n",
              "          const dataTable =\n",
              "            await google.colab.kernel.invokeFunction('convertToInteractive',\n",
              "                                                     [key], {});\n",
              "          if (!dataTable) return;\n",
              "\n",
              "          const docLinkHtml = 'Like what you see? Visit the ' +\n",
              "            '<a target=\"_blank\" href=https://colab.research.google.com/notebooks/data_table.ipynb>data table notebook</a>'\n",
              "            + ' to learn more about interactive tables.';\n",
              "          element.innerHTML = '';\n",
              "          dataTable['output_type'] = 'display_data';\n",
              "          await google.colab.output.renderOutput(dataTable, element);\n",
              "          const docLink = document.createElement('div');\n",
              "          docLink.innerHTML = docLinkHtml;\n",
              "          element.appendChild(docLink);\n",
              "        }\n",
              "      </script>\n",
              "    </div>\n",
              "  </div>\n",
              "  "
            ]
          },
          "metadata": {},
          "execution_count": 28
        }
      ]
    },
    {
      "cell_type": "code",
      "source": [
        "df_fatores =  df.groupby('obito').sum()[fatores]\n",
        "\n",
        "x = np.arange(len(fatores))\n",
        "width = 0.35 \n",
        "sns.set_theme(style=\"whitegrid\")\n",
        "fig, ax = plt.subplots()\n",
        "\n",
        "fig.set_figheight(8)\n",
        "fig.set_figwidth(16)\n",
        "\n",
        "rects1 = ax.bar(x - width/2, df_fatores.values[0], width, label='Recuperados')\n",
        "rects2 = ax.bar(x + width/2, df_fatores.values[1], width, label='Óbitos')\n",
        "\n",
        "\n",
        "ax.set_ylabel('Quantidade')\n",
        "ax.set_title('Óbitos por Doença\\n',size = 20)\n",
        "ax.set_xticklabels(fatores)\n",
        "ax.set_xticks(x)\n",
        "ax.set_xticklabels(fatores,rotation = 45, horizontalalignment = 'right')\n",
        "ax.legend()\n",
        "\n",
        "fig.tight_layout()\n",
        "plt.show()"
      ],
      "metadata": {
        "colab": {
          "base_uri": "https://localhost:8080/",
          "height": 581
        },
        "id": "o8PsrmktTptU",
        "outputId": "d69fc354-f82c-4149-cf95-ba224611194a"
      },
      "execution_count": null,
      "outputs": [
        {
          "output_type": "display_data",
          "data": {
            "text/plain": [
              "<Figure size 1152x576 with 1 Axes>"
            ],
            "image/png": "[encoded data removed]"
          },
          "metadata": {}
        }
      ]
    },
    {
      "cell_type": "markdown",
      "source": [
        "#**Modelagem**"
      ],
      "metadata": {
        "id": "cZjARcCwLALH"
      }
    },
    {
      "cell_type": "markdown",
      "source": [
        "##Modelo 1: Amostragem Aleatória"
      ],
      "metadata": {
        "id": "Ajb-HVHXLDWd"
      }
    },
    {
      "cell_type": "code",
      "source": [
        "#Importando a amostra aleatória\n",
        "amos_aleat = pd.read_csv(\"https://github.com/predict-icmc/covid19/raw/master/leitura-dados/aa.csv\")\n",
        "amos_aleat.head()"
      ],
      "metadata": {
        "id": "z-EPM7mdKueQ",
        "colab": {
          "base_uri": "https://localhost:8080/",
          "height": 288
        },
        "outputId": "eff03961-e776-4e22-f9c7-b858529bd9e7"
      },
      "execution_count": null,
      "outputs": [
        {
          "output_type": "execute_result",
          "data": {
            "text/plain": [
              "   Unnamed: 0  asma  cardiopatia  diabetes  doenca_hematologica  \\\n",
              "0     2157259     0            0         0                    0   \n",
              "1       12015     0            0         1                    0   \n",
              "2     1556120     0            0         0                    0   \n",
              "3     2517316     0            0         0                    0   \n",
              "4     2039093     0            0         1                    0   \n",
              "\n",
              "   doenca_hepatica  doenca_neurologica  doenca_renal  imunodepressao  \\\n",
              "0                0                   0             0               0   \n",
              "1                0                   0             0               0   \n",
              "2                0                   0             0               0   \n",
              "3                0                   0             0               0   \n",
              "4                0                   0             0               0   \n",
              "\n",
              "   obesidade  outros_fatores_de_risco  pneumopatia  puerpera  \\\n",
              "0          0                        0            0         0   \n",
              "1          1                        0            0         0   \n",
              "2          0                        0            0         0   \n",
              "3          0                        0            0         0   \n",
              "4          0                        0            0         0   \n",
              "\n",
              "   sindrome_de_down  idade  obito  FEMININO  IGNORADO  INDEFINIDO  MASCULINO  \n",
              "0                 0   48.0      0         0         0           0          1  \n",
              "1                 0   48.0      1         1         0           0          0  \n",
              "2                 0   46.0      0         1         0           0          0  \n",
              "3                 0   33.0      0         0         0           0          1  \n",
              "4                 0   41.0      0         0         0           0          1  "
            ],
            "text/html": [
              "\n",
              "  <div id=\"df-ea49ac1c-f701-4acb-b73a-a1acf0e2d408\">\n",
              "    <div class=\"colab-df-container\">\n",
              "      <div>\n",
              "<style scoped>\n",
              "    .dataframe tbody tr th:only-of-type {\n",
              "        vertical-align: middle;\n",
              "    }\n",
              "\n",
              "    .dataframe tbody tr th {\n",
              "        vertical-align: top;\n",
              "    }\n",
              "\n",
              "    .dataframe thead th {\n",
              "        text-align: right;\n",
              "    }\n",
              "</style>\n",
              "<table border=\"1\" class=\"dataframe\">\n",
              "  <thead>\n",
              "    <tr style=\"text-align: right;\">\n",
              "      <th></th>\n",
              "      <th>Unnamed: 0</th>\n",
              "      <th>asma</th>\n",
              "      <th>cardiopatia</th>\n",
              "      <th>diabetes</th>\n",
              "      <th>doenca_hematologica</th>\n",
              "      <th>doenca_hepatica</th>\n",
              "      <th>doenca_neurologica</th>\n",
              "      <th>doenca_renal</th>\n",
              "      <th>imunodepressao</th>\n",
              "      <th>obesidade</th>\n",
              "      <th>outros_fatores_de_risco</th>\n",
              "      <th>pneumopatia</th>\n",
              "      <th>puerpera</th>\n",
              "      <th>sindrome_de_down</th>\n",
              "      <th>idade</th>\n",
              "      <th>obito</th>\n",
              "      <th>FEMININO</th>\n",
              "      <th>IGNORADO</th>\n",
              "      <th>INDEFINIDO</th>\n",
              "      <th>MASCULINO</th>\n",
              "    </tr>\n",
              "  </thead>\n",
              "  <tbody>\n",
              "    <tr>\n",
              "      <th>0</th>\n",
              "      <td>2157259</td>\n",
              "      <td>0</td>\n",
              "      <td>0</td>\n",
              "      <td>0</td>\n",
              "      <td>0</td>\n",
              "      <td>0</td>\n",
              "      <td>0</td>\n",
              "      <td>0</td>\n",
              "      <td>0</td>\n",
              "      <td>0</td>\n",
              "      <td>0</td>\n",
              "      <td>0</td>\n",
              "      <td>0</td>\n",
              "      <td>0</td>\n",
              "      <td>48.0</td>\n",
              "      <td>0</td>\n",
              "      <td>0</td>\n",
              "      <td>0</td>\n",
              "      <td>0</td>\n",
              "      <td>1</td>\n",
              "    </tr>\n",
              "    <tr>\n",
              "      <th>1</th>\n",
              "      <td>12015</td>\n",
              "      <td>0</td>\n",
              "      <td>0</td>\n",
              "      <td>1</td>\n",
              "      <td>0</td>\n",
              "      <td>0</td>\n",
              "      <td>0</td>\n",
              "      <td>0</td>\n",
              "      <td>0</td>\n",
              "      <td>1</td>\n",
              "      <td>0</td>\n",
              "      <td>0</td>\n",
              "      <td>0</td>\n",
              "      <td>0</td>\n",
              "      <td>48.0</td>\n",
              "      <td>1</td>\n",
              "      <td>1</td>\n",
              "      <td>0</td>\n",
              "      <td>0</td>\n",
              "      <td>0</td>\n",
              "    </tr>\n",
              "    <tr>\n",
              "      <th>2</th>\n",
              "      <td>1556120</td>\n",
              "      <td>0</td>\n",
              "      <td>0</td>\n",
              "      <td>0</td>\n",
              "      <td>0</td>\n",
              "      <td>0</td>\n",
              "      <td>0</td>\n",
              "      <td>0</td>\n",
              "      <td>0</td>\n",
              "      <td>0</td>\n",
              "      <td>0</td>\n",
              "      <td>0</td>\n",
              "      <td>0</td>\n",
              "      <td>0</td>\n",
              "      <td>46.0</td>\n",
              "      <td>0</td>\n",
              "      <td>1</td>\n",
              "      <td>0</td>\n",
              "      <td>0</td>\n",
              "      <td>0</td>\n",
              "    </tr>\n",
              "    <tr>\n",
              "      <th>3</th>\n",
              "      <td>2517316</td>\n",
              "      <td>0</td>\n",
              "      <td>0</td>\n",
              "      <td>0</td>\n",
              "      <td>0</td>\n",
              "      <td>0</td>\n",
              "      <td>0</td>\n",
              "      <td>0</td>\n",
              "      <td>0</td>\n",
              "      <td>0</td>\n",
              "      <td>0</td>\n",
              "      <td>0</td>\n",
              "      <td>0</td>\n",
              "      <td>0</td>\n",
              "      <td>33.0</td>\n",
              "      <td>0</td>\n",
              "      <td>0</td>\n",
              "      <td>0</td>\n",
              "      <td>0</td>\n",
              "      <td>1</td>\n",
              "    </tr>\n",
              "    <tr>\n",
              "      <th>4</th>\n",
              "      <td>2039093</td>\n",
              "      <td>0</td>\n",
              "      <td>0</td>\n",
              "      <td>1</td>\n",
              "      <td>0</td>\n",
              "      <td>0</td>\n",
              "      <td>0</td>\n",
              "      <td>0</td>\n",
              "      <td>0</td>\n",
              "      <td>0</td>\n",
              "      <td>0</td>\n",
              "      <td>0</td>\n",
              "      <td>0</td>\n",
              "      <td>0</td>\n",
              "      <td>41.0</td>\n",
              "      <td>0</td>\n",
              "      <td>0</td>\n",
              "      <td>0</td>\n",
              "      <td>0</td>\n",
              "      <td>1</td>\n",
              "    </tr>\n",
              "  </tbody>\n",
              "</table>\n",
              "</div>\n",
              "      <button class=\"colab-df-convert\" onclick=\"convertToInteractive('df-ea49ac1c-f701-4acb-b73a-a1acf0e2d408')\"\n",
              "              title=\"Convert this dataframe to an interactive table.\"\n",
              "              style=\"display:none;\">\n",
              "        \n",
              "  <svg xmlns=\"http://www.w3.org/2000/svg\" height=\"24px\"viewBox=\"0 0 24 24\"\n",
              "       width=\"24px\">\n",
              "    <path d=\"M0 0h24v24H0V0z\" fill=\"none\"/>\n",
              "    <path d=\"M18.56 5.44l.94 2.06.94-2.06 2.06-.94-2.06-.94-.94-2.06-.94 2.06-2.06.94zm-11 1L8.5 8.5l.94-2.06 2.06-.94-2.06-.94L8.5 2.5l-.94 2.06-2.06.94zm10 10l.94 2.06.94-2.06 2.06-.94-2.06-.94-.94-2.06-.94 2.06-2.06.94z\"/><path d=\"M17.41 7.96l-1.37-1.37c-.4-.4-.92-.59-1.43-.59-.52 0-1.04.2-1.43.59L10.3 9.45l-7.72 7.72c-.78.78-.78 2.05 0 2.83L4 21.41c.39.39.9.59 1.41.59.51 0 1.02-.2 1.41-.59l7.78-7.78 2.81-2.81c.8-.78.8-2.07 0-2.86zM5.41 20L4 18.59l7.72-7.72 1.47 1.35L5.41 20z\"/>\n",
              "  </svg>\n",
              "      </button>\n",
              "      \n",
              "  <style>\n",
              "    .colab-df-container {\n",
              "      display:flex;\n",
              "      flex-wrap:wrap;\n",
              "      gap: 12px;\n",
              "    }\n",
              "\n",
              "    .colab-df-convert {\n",
              "      background-color: #E8F0FE;\n",
              "      border: none;\n",
              "      border-radius: 50%;\n",
              "      cursor: pointer;\n",
              "      display: none;\n",
              "      fill: #1967D2;\n",
              "      height: 32px;\n",
              "      padding: 0 0 0 0;\n",
              "      width: 32px;\n",
              "    }\n",
              "\n",
              "    .colab-df-convert:hover {\n",
              "      background-color: #E2EBFA;\n",
              "      box-shadow: 0px 1px 2px rgba(60, 64, 67, 0.3), 0px 1px 3px 1px rgba(60, 64, 67, 0.15);\n",
              "      fill: #174EA6;\n",
              "    }\n",
              "\n",
              "    [theme=dark] .colab-df-convert {\n",
              "      background-color: #3B4455;\n",
              "      fill: #D2E3FC;\n",
              "    }\n",
              "\n",
              "    [theme=dark] .colab-df-convert:hover {\n",
              "      background-color: #434B5C;\n",
              "      box-shadow: 0px 1px 3px 1px rgba(0, 0, 0, 0.15);\n",
              "      filter: drop-shadow(0px 1px 2px rgba(0, 0, 0, 0.3));\n",
              "      fill: #FFFFFF;\n",
              "    }\n",
              "  </style>\n",
              "\n",
              "      <script>\n",
              "        const buttonEl =\n",
              "          document.querySelector('#df-ea49ac1c-f701-4acb-b73a-a1acf0e2d408 button.colab-df-convert');\n",
              "        buttonEl.style.display =\n",
              "          google.colab.kernel.accessAllowed ? 'block' : 'none';\n",
              "\n",
              "        async function convertToInteractive(key) {\n",
              "          const element = document.querySelector('#df-ea49ac1c-f701-4acb-b73a-a1acf0e2d408');\n",
              "          const dataTable =\n",
              "            await google.colab.kernel.invokeFunction('convertToInteractive',\n",
              "                                                     [key], {});\n",
              "          if (!dataTable) return;\n",
              "\n",
              "          const docLinkHtml = 'Like what you see? Visit the ' +\n",
              "            '<a target=\"_blank\" href=https://colab.research.google.com/notebooks/data_table.ipynb>data table notebook</a>'\n",
              "            + ' to learn more about interactive tables.';\n",
              "          element.innerHTML = '';\n",
              "          dataTable['output_type'] = 'display_data';\n",
              "          await google.colab.output.renderOutput(dataTable, element);\n",
              "          const docLink = document.createElement('div');\n",
              "          docLink.innerHTML = docLinkHtml;\n",
              "          element.appendChild(docLink);\n",
              "        }\n",
              "      </script>\n",
              "    </div>\n",
              "  </div>\n",
              "  "
            ]
          },
          "metadata": {},
          "execution_count": 32
        }
      ]
    },
    {
      "cell_type": "code",
      "source": [
        "amos_aleat.groupby(by = 'obito').sum()"
      ],
      "metadata": {
        "colab": {
          "base_uri": "https://localhost:8080/",
          "height": 207
        },
        "id": "W8t0wKn1Xo2V",
        "outputId": "0bad0589-fcf5-4d81-f7a0-5fda57a0f07d"
      },
      "execution_count": null,
      "outputs": [
        {
          "output_type": "execute_result",
          "data": {
            "text/plain": [
              "        Unnamed: 0  asma  cardiopatia  diabetes  doenca_hematologica  \\\n",
              "obito                                                                  \n",
              "0      58770964920    73         2038      1347                    7   \n",
              "1       2109374524    22          457       345                    6   \n",
              "\n",
              "       doenca_hepatica  doenca_neurologica  doenca_renal  imunodepressao  \\\n",
              "obito                                                                      \n",
              "0                   13                  44           118             188   \n",
              "1                   11                  53            61              27   \n",
              "\n",
              "       obesidade  outros_fatores_de_risco  pneumopatia  puerpera  \\\n",
              "obito                                                              \n",
              "0            186                      504           45         7   \n",
              "1            108                      313           47         6   \n",
              "\n",
              "       sindrome_de_down      idade  FEMININO  IGNORADO  INDEFINIDO  MASCULINO  \n",
              "obito                                                                          \n",
              "0                     5  1161540.0     15463         1          32      13463  \n",
              "1                     1    68235.0       458         0           0        583  "
            ],
            "text/html": [
              "\n",
              "  <div id=\"df-4418ba2d-b7e2-40e9-8af4-c451165f14b9\">\n",
              "    <div class=\"colab-df-container\">\n",
              "      <div>\n",
              "<style scoped>\n",
              "    .dataframe tbody tr th:only-of-type {\n",
              "        vertical-align: middle;\n",
              "    }\n",
              "\n",
              "    .dataframe tbody tr th {\n",
              "        vertical-align: top;\n",
              "    }\n",
              "\n",
              "    .dataframe thead th {\n",
              "        text-align: right;\n",
              "    }\n",
              "</style>\n",
              "<table border=\"1\" class=\"dataframe\">\n",
              "  <thead>\n",
              "    <tr style=\"text-align: right;\">\n",
              "      <th></th>\n",
              "      <th>Unnamed: 0</th>\n",
              "      <th>asma</th>\n",
              "      <th>cardiopatia</th>\n",
              "      <th>diabetes</th>\n",
              "      <th>doenca_hematologica</th>\n",
              "      <th>doenca_hepatica</th>\n",
              "      <th>doenca_neurologica</th>\n",
              "      <th>doenca_renal</th>\n",
              "      <th>imunodepressao</th>\n",
              "      <th>obesidade</th>\n",
              "      <th>outros_fatores_de_risco</th>\n",
              "      <th>pneumopatia</th>\n",
              "      <th>puerpera</th>\n",
              "      <th>sindrome_de_down</th>\n",
              "      <th>idade</th>\n",
              "      <th>FEMININO</th>\n",
              "      <th>IGNORADO</th>\n",
              "      <th>INDEFINIDO</th>\n",
              "      <th>MASCULINO</th>\n",
              "    </tr>\n",
              "    <tr>\n",
              "      <th>obito</th>\n",
              "      <th></th>\n",
              "      <th></th>\n",
              "      <th></th>\n",
              "      <th></th>\n",
              "      <th></th>\n",
              "      <th></th>\n",
              "      <th></th>\n",
              "      <th></th>\n",
              "      <th></th>\n",
              "      <th></th>\n",
              "      <th></th>\n",
              "      <th></th>\n",
              "      <th></th>\n",
              "      <th></th>\n",
              "      <th></th>\n",
              "      <th></th>\n",
              "      <th></th>\n",
              "      <th></th>\n",
              "      <th></th>\n",
              "    </tr>\n",
              "  </thead>\n",
              "  <tbody>\n",
              "    <tr>\n",
              "      <th>0</th>\n",
              "      <td>58770964920</td>\n",
              "      <td>73</td>\n",
              "      <td>2038</td>\n",
              "      <td>1347</td>\n",
              "      <td>7</td>\n",
              "      <td>13</td>\n",
              "      <td>44</td>\n",
              "      <td>118</td>\n",
              "      <td>188</td>\n",
              "      <td>186</td>\n",
              "      <td>504</td>\n",
              "      <td>45</td>\n",
              "      <td>7</td>\n",
              "      <td>5</td>\n",
              "      <td>1161540.0</td>\n",
              "      <td>15463</td>\n",
              "      <td>1</td>\n",
              "      <td>32</td>\n",
              "      <td>13463</td>\n",
              "    </tr>\n",
              "    <tr>\n",
              "      <th>1</th>\n",
              "      <td>2109374524</td>\n",
              "      <td>22</td>\n",
              "      <td>457</td>\n",
              "      <td>345</td>\n",
              "      <td>6</td>\n",
              "      <td>11</td>\n",
              "      <td>53</td>\n",
              "      <td>61</td>\n",
              "      <td>27</td>\n",
              "      <td>108</td>\n",
              "      <td>313</td>\n",
              "      <td>47</td>\n",
              "      <td>6</td>\n",
              "      <td>1</td>\n",
              "      <td>68235.0</td>\n",
              "      <td>458</td>\n",
              "      <td>0</td>\n",
              "      <td>0</td>\n",
              "      <td>583</td>\n",
              "    </tr>\n",
              "  </tbody>\n",
              "</table>\n",
              "</div>\n",
              "      <button class=\"colab-df-convert\" onclick=\"convertToInteractive('df-4418ba2d-b7e2-40e9-8af4-c451165f14b9')\"\n",
              "              title=\"Convert this dataframe to an interactive table.\"\n",
              "              style=\"display:none;\">\n",
              "        \n",
              "  <svg xmlns=\"http://www.w3.org/2000/svg\" height=\"24px\"viewBox=\"0 0 24 24\"\n",
              "       width=\"24px\">\n",
              "    <path d=\"M0 0h24v24H0V0z\" fill=\"none\"/>\n",
              "    <path d=\"M18.56 5.44l.94 2.06.94-2.06 2.06-.94-2.06-.94-.94-2.06-.94 2.06-2.06.94zm-11 1L8.5 8.5l.94-2.06 2.06-.94-2.06-.94L8.5 2.5l-.94 2.06-2.06.94zm10 10l.94 2.06.94-2.06 2.06-.94-2.06-.94-.94-2.06-.94 2.06-2.06.94z\"/><path d=\"M17.41 7.96l-1.37-1.37c-.4-.4-.92-.59-1.43-.59-.52 0-1.04.2-1.43.59L10.3 9.45l-7.72 7.72c-.78.78-.78 2.05 0 2.83L4 21.41c.39.39.9.59 1.41.59.51 0 1.02-.2 1.41-.59l7.78-7.78 2.81-2.81c.8-.78.8-2.07 0-2.86zM5.41 20L4 18.59l7.72-7.72 1.47 1.35L5.41 20z\"/>\n",
              "  </svg>\n",
              "      </button>\n",
              "      \n",
              "  <style>\n",
              "    .colab-df-container {\n",
              "      display:flex;\n",
              "      flex-wrap:wrap;\n",
              "      gap: 12px;\n",
              "    }\n",
              "\n",
              "    .colab-df-convert {\n",
              "      background-color: #E8F0FE;\n",
              "      border: none;\n",
              "      border-radius: 50%;\n",
              "      cursor: pointer;\n",
              "      display: none;\n",
              "      fill: #1967D2;\n",
              "      height: 32px;\n",
              "      padding: 0 0 0 0;\n",
              "      width: 32px;\n",
              "    }\n",
              "\n",
              "    .colab-df-convert:hover {\n",
              "      background-color: #E2EBFA;\n",
              "      box-shadow: 0px 1px 2px rgba(60, 64, 67, 0.3), 0px 1px 3px 1px rgba(60, 64, 67, 0.15);\n",
              "      fill: #174EA6;\n",
              "    }\n",
              "\n",
              "    [theme=dark] .colab-df-convert {\n",
              "      background-color: #3B4455;\n",
              "      fill: #D2E3FC;\n",
              "    }\n",
              "\n",
              "    [theme=dark] .colab-df-convert:hover {\n",
              "      background-color: #434B5C;\n",
              "      box-shadow: 0px 1px 3px 1px rgba(0, 0, 0, 0.15);\n",
              "      filter: drop-shadow(0px 1px 2px rgba(0, 0, 0, 0.3));\n",
              "      fill: #FFFFFF;\n",
              "    }\n",
              "  </style>\n",
              "\n",
              "      <script>\n",
              "        const buttonEl =\n",
              "          document.querySelector('#df-4418ba2d-b7e2-40e9-8af4-c451165f14b9 button.colab-df-convert');\n",
              "        buttonEl.style.display =\n",
              "          google.colab.kernel.accessAllowed ? 'block' : 'none';\n",
              "\n",
              "        async function convertToInteractive(key) {\n",
              "          const element = document.querySelector('#df-4418ba2d-b7e2-40e9-8af4-c451165f14b9');\n",
              "          const dataTable =\n",
              "            await google.colab.kernel.invokeFunction('convertToInteractive',\n",
              "                                                     [key], {});\n",
              "          if (!dataTable) return;\n",
              "\n",
              "          const docLinkHtml = 'Like what you see? Visit the ' +\n",
              "            '<a target=\"_blank\" href=https://colab.research.google.com/notebooks/data_table.ipynb>data table notebook</a>'\n",
              "            + ' to learn more about interactive tables.';\n",
              "          element.innerHTML = '';\n",
              "          dataTable['output_type'] = 'display_data';\n",
              "          await google.colab.output.renderOutput(dataTable, element);\n",
              "          const docLink = document.createElement('div');\n",
              "          docLink.innerHTML = docLinkHtml;\n",
              "          element.appendChild(docLink);\n",
              "        }\n",
              "      </script>\n",
              "    </div>\n",
              "  </div>\n",
              "  "
            ]
          },
          "metadata": {},
          "execution_count": 15
        }
      ]
    },
    {
      "cell_type": "code",
      "source": [
        "diabete = amos_aleat.loc[amos_aleat['diabetes'] == 1]\n",
        "diabete.head()"
      ],
      "metadata": {
        "colab": {
          "base_uri": "https://localhost:8080/",
          "height": 288
        },
        "id": "gpI_4f85YS5Q",
        "outputId": "c2be4662-90a7-4e76-c3db-a514f518b51b"
      },
      "execution_count": null,
      "outputs": [
        {
          "output_type": "execute_result",
          "data": {
            "text/plain": [
              "    Unnamed: 0  asma  cardiopatia  diabetes  doenca_hematologica  \\\n",
              "1        12015     0            0         1                    0   \n",
              "4      2039093     0            0         1                    0   \n",
              "36       28589     0            1         1                    0   \n",
              "43     2485996     0            1         1                    0   \n",
              "44      243014     0            0         1                    0   \n",
              "\n",
              "    doenca_hepatica  doenca_neurologica  doenca_renal  imunodepressao  \\\n",
              "1                 0                   0             0               0   \n",
              "4                 0                   0             0               0   \n",
              "36                0                   0             0               0   \n",
              "43                0                   0             0               0   \n",
              "44                0                   0             0               0   \n",
              "\n",
              "    obesidade  outros_fatores_de_risco  pneumopatia  puerpera  \\\n",
              "1           1                        0            0         0   \n",
              "4           0                        0            0         0   \n",
              "36          0                        0            0         0   \n",
              "43          0                        0            0         0   \n",
              "44          0                        0            0         0   \n",
              "\n",
              "    sindrome_de_down  idade  obito  FEMININO  IGNORADO  INDEFINIDO  MASCULINO  \n",
              "1                  0   48.0      1         1         0           0          0  \n",
              "4                  0   41.0      0         0         0           0          1  \n",
              "36                 0   85.0      1         1         0           0          0  \n",
              "43                 0   79.0      0         0         0           0          1  \n",
              "44                 0   50.0      0         0         0           0          1  "
            ],
            "text/html": [
              "\n",
              "  <div id=\"df-47e3f606-dfc0-4f20-b623-dd3014493ce0\">\n",
              "    <div class=\"colab-df-container\">\n",
              "      <div>\n",
              "<style scoped>\n",
              "    .dataframe tbody tr th:only-of-type {\n",
              "        vertical-align: middle;\n",
              "    }\n",
              "\n",
              "    .dataframe tbody tr th {\n",
              "        vertical-align: top;\n",
              "    }\n",
              "\n",
              "    .dataframe thead th {\n",
              "        text-align: right;\n",
              "    }\n",
              "</style>\n",
              "<table border=\"1\" class=\"dataframe\">\n",
              "  <thead>\n",
              "    <tr style=\"text-align: right;\">\n",
              "      <th></th>\n",
              "      <th>Unnamed: 0</th>\n",
              "      <th>asma</th>\n",
              "      <th>cardiopatia</th>\n",
              "      <th>diabetes</th>\n",
              "      <th>doenca_hematologica</th>\n",
              "      <th>doenca_hepatica</th>\n",
              "      <th>doenca_neurologica</th>\n",
              "      <th>doenca_renal</th>\n",
              "      <th>imunodepressao</th>\n",
              "      <th>obesidade</th>\n",
              "      <th>outros_fatores_de_risco</th>\n",
              "      <th>pneumopatia</th>\n",
              "      <th>puerpera</th>\n",
              "      <th>sindrome_de_down</th>\n",
              "      <th>idade</th>\n",
              "      <th>obito</th>\n",
              "      <th>FEMININO</th>\n",
              "      <th>IGNORADO</th>\n",
              "      <th>INDEFINIDO</th>\n",
              "      <th>MASCULINO</th>\n",
              "    </tr>\n",
              "  </thead>\n",
              "  <tbody>\n",
              "    <tr>\n",
              "      <th>1</th>\n",
              "      <td>12015</td>\n",
              "      <td>0</td>\n",
              "      <td>0</td>\n",
              "      <td>1</td>\n",
              "      <td>0</td>\n",
              "      <td>0</td>\n",
              "      <td>0</td>\n",
              "      <td>0</td>\n",
              "      <td>0</td>\n",
              "      <td>1</td>\n",
              "      <td>0</td>\n",
              "      <td>0</td>\n",
              "      <td>0</td>\n",
              "      <td>0</td>\n",
              "      <td>48.0</td>\n",
              "      <td>1</td>\n",
              "      <td>1</td>\n",
              "      <td>0</td>\n",
              "      <td>0</td>\n",
              "      <td>0</td>\n",
              "    </tr>\n",
              "    <tr>\n",
              "      <th>4</th>\n",
              "      <td>2039093</td>\n",
              "      <td>0</td>\n",
              "      <td>0</td>\n",
              "      <td>1</td>\n",
              "      <td>0</td>\n",
              "      <td>0</td>\n",
              "      <td>0</td>\n",
              "      <td>0</td>\n",
              "      <td>0</td>\n",
              "      <td>0</td>\n",
              "      <td>0</td>\n",
              "      <td>0</td>\n",
              "      <td>0</td>\n",
              "      <td>0</td>\n",
              "      <td>41.0</td>\n",
              "      <td>0</td>\n",
              "      <td>0</td>\n",
              "      <td>0</td>\n",
              "      <td>0</td>\n",
              "      <td>1</td>\n",
              "    </tr>\n",
              "    <tr>\n",
              "      <th>36</th>\n",
              "      <td>28589</td>\n",
              "      <td>0</td>\n",
              "      <td>1</td>\n",
              "      <td>1</td>\n",
              "      <td>0</td>\n",
              "      <td>0</td>\n",
              "      <td>0</td>\n",
              "      <td>0</td>\n",
              "      <td>0</td>\n",
              "      <td>0</td>\n",
              "      <td>0</td>\n",
              "      <td>0</td>\n",
              "      <td>0</td>\n",
              "      <td>0</td>\n",
              "      <td>85.0</td>\n",
              "      <td>1</td>\n",
              "      <td>1</td>\n",
              "      <td>0</td>\n",
              "      <td>0</td>\n",
              "      <td>0</td>\n",
              "    </tr>\n",
              "    <tr>\n",
              "      <th>43</th>\n",
              "      <td>2485996</td>\n",
              "      <td>0</td>\n",
              "      <td>1</td>\n",
              "      <td>1</td>\n",
              "      <td>0</td>\n",
              "      <td>0</td>\n",
              "      <td>0</td>\n",
              "      <td>0</td>\n",
              "      <td>0</td>\n",
              "      <td>0</td>\n",
              "      <td>0</td>\n",
              "      <td>0</td>\n",
              "      <td>0</td>\n",
              "      <td>0</td>\n",
              "      <td>79.0</td>\n",
              "      <td>0</td>\n",
              "      <td>0</td>\n",
              "      <td>0</td>\n",
              "      <td>0</td>\n",
              "      <td>1</td>\n",
              "    </tr>\n",
              "    <tr>\n",
              "      <th>44</th>\n",
              "      <td>243014</td>\n",
              "      <td>0</td>\n",
              "      <td>0</td>\n",
              "      <td>1</td>\n",
              "      <td>0</td>\n",
              "      <td>0</td>\n",
              "      <td>0</td>\n",
              "      <td>0</td>\n",
              "      <td>0</td>\n",
              "      <td>0</td>\n",
              "      <td>0</td>\n",
              "      <td>0</td>\n",
              "      <td>0</td>\n",
              "      <td>0</td>\n",
              "      <td>50.0</td>\n",
              "      <td>0</td>\n",
              "      <td>0</td>\n",
              "      <td>0</td>\n",
              "      <td>0</td>\n",
              "      <td>1</td>\n",
              "    </tr>\n",
              "  </tbody>\n",
              "</table>\n",
              "</div>\n",
              "      <button class=\"colab-df-convert\" onclick=\"convertToInteractive('df-47e3f606-dfc0-4f20-b623-dd3014493ce0')\"\n",
              "              title=\"Convert this dataframe to an interactive table.\"\n",
              "              style=\"display:none;\">\n",
              "        \n",
              "  <svg xmlns=\"http://www.w3.org/2000/svg\" height=\"24px\"viewBox=\"0 0 24 24\"\n",
              "       width=\"24px\">\n",
              "    <path d=\"M0 0h24v24H0V0z\" fill=\"none\"/>\n",
              "    <path d=\"M18.56 5.44l.94 2.06.94-2.06 2.06-.94-2.06-.94-.94-2.06-.94 2.06-2.06.94zm-11 1L8.5 8.5l.94-2.06 2.06-.94-2.06-.94L8.5 2.5l-.94 2.06-2.06.94zm10 10l.94 2.06.94-2.06 2.06-.94-2.06-.94-.94-2.06-.94 2.06-2.06.94z\"/><path d=\"M17.41 7.96l-1.37-1.37c-.4-.4-.92-.59-1.43-.59-.52 0-1.04.2-1.43.59L10.3 9.45l-7.72 7.72c-.78.78-.78 2.05 0 2.83L4 21.41c.39.39.9.59 1.41.59.51 0 1.02-.2 1.41-.59l7.78-7.78 2.81-2.81c.8-.78.8-2.07 0-2.86zM5.41 20L4 18.59l7.72-7.72 1.47 1.35L5.41 20z\"/>\n",
              "  </svg>\n",
              "      </button>\n",
              "      \n",
              "  <style>\n",
              "    .colab-df-container {\n",
              "      display:flex;\n",
              "      flex-wrap:wrap;\n",
              "      gap: 12px;\n",
              "    }\n",
              "\n",
              "    .colab-df-convert {\n",
              "      background-color: #E8F0FE;\n",
              "      border: none;\n",
              "      border-radius: 50%;\n",
              "      cursor: pointer;\n",
              "      display: none;\n",
              "      fill: #1967D2;\n",
              "      height: 32px;\n",
              "      padding: 0 0 0 0;\n",
              "      width: 32px;\n",
              "    }\n",
              "\n",
              "    .colab-df-convert:hover {\n",
              "      background-color: #E2EBFA;\n",
              "      box-shadow: 0px 1px 2px rgba(60, 64, 67, 0.3), 0px 1px 3px 1px rgba(60, 64, 67, 0.15);\n",
              "      fill: #174EA6;\n",
              "    }\n",
              "\n",
              "    [theme=dark] .colab-df-convert {\n",
              "      background-color: #3B4455;\n",
              "      fill: #D2E3FC;\n",
              "    }\n",
              "\n",
              "    [theme=dark] .colab-df-convert:hover {\n",
              "      background-color: #434B5C;\n",
              "      box-shadow: 0px 1px 3px 1px rgba(0, 0, 0, 0.15);\n",
              "      filter: drop-shadow(0px 1px 2px rgba(0, 0, 0, 0.3));\n",
              "      fill: #FFFFFF;\n",
              "    }\n",
              "  </style>\n",
              "\n",
              "      <script>\n",
              "        const buttonEl =\n",
              "          document.querySelector('#df-47e3f606-dfc0-4f20-b623-dd3014493ce0 button.colab-df-convert');\n",
              "        buttonEl.style.display =\n",
              "          google.colab.kernel.accessAllowed ? 'block' : 'none';\n",
              "\n",
              "        async function convertToInteractive(key) {\n",
              "          const element = document.querySelector('#df-47e3f606-dfc0-4f20-b623-dd3014493ce0');\n",
              "          const dataTable =\n",
              "            await google.colab.kernel.invokeFunction('convertToInteractive',\n",
              "                                                     [key], {});\n",
              "          if (!dataTable) return;\n",
              "\n",
              "          const docLinkHtml = 'Like what you see? Visit the ' +\n",
              "            '<a target=\"_blank\" href=https://colab.research.google.com/notebooks/data_table.ipynb>data table notebook</a>'\n",
              "            + ' to learn more about interactive tables.';\n",
              "          element.innerHTML = '';\n",
              "          dataTable['output_type'] = 'display_data';\n",
              "          await google.colab.output.renderOutput(dataTable, element);\n",
              "          const docLink = document.createElement('div');\n",
              "          docLink.innerHTML = docLinkHtml;\n",
              "          element.appendChild(docLink);\n",
              "        }\n",
              "      </script>\n",
              "    </div>\n",
              "  </div>\n",
              "  "
            ]
          },
          "metadata": {},
          "execution_count": 9
        }
      ]
    },
    {
      "cell_type": "code",
      "source": [
        "diabete.shape"
      ],
      "metadata": {
        "colab": {
          "base_uri": "https://localhost:8080/"
        },
        "id": "kUWYXYnaYgl4",
        "outputId": "4e16dcd1-5ec5-425a-b457-96f834b5b49b"
      },
      "execution_count": null,
      "outputs": [
        {
          "output_type": "execute_result",
          "data": {
            "text/plain": [
              "(1692, 20)"
            ]
          },
          "metadata": {},
          "execution_count": 10
        }
      ]
    },
    {
      "cell_type": "code",
      "source": [
        "#Verificando o balanceamento da váriavel resposta\n",
        "amos_aleat['obito'].value_counts(normalize = True)"
      ],
      "metadata": {
        "colab": {
          "base_uri": "https://localhost:8080/"
        },
        "id": "p-SBNQwBOGew",
        "outputId": "5676b39f-0361-4fe5-9d2c-ad1253c85117"
      },
      "execution_count": null,
      "outputs": [
        {
          "output_type": "execute_result",
          "data": {
            "text/plain": [
              "0    0.9653\n",
              "1    0.0347\n",
              "Name: obito, dtype: float64"
            ]
          },
          "metadata": {},
          "execution_count": 3
        }
      ]
    },
    {
      "cell_type": "code",
      "source": [
        "#Separado nossas váriaveis em preditoras e resposta\n",
        "X = amos_aleat.drop(['obito','IGNORADO','INDEFINIDO','MASCULINO','Unnamed: 0'],axis = 1)\n",
        "y = amos_aleat['obito']\n",
        "\n",
        "#Vamos dividir em treino e teste\n",
        "p = 0.2 \n",
        "x_train, x_test, y_train, y_test = train_test_split(X, y, test_size = p, random_state = 42)"
      ],
      "metadata": {
        "id": "xacZb7MXMCrj"
      },
      "execution_count": null,
      "outputs": []
    },
    {
      "cell_type": "markdown",
      "source": [
        "Ligação LOGIT\n",
        "\n",
        "\\begin{align}\n",
        "y = logit(x) = ln(\\frac{x}{1-x})\n",
        "\\end{align}"
      ],
      "metadata": {
        "id": "B7N1OaNnNSj9"
      }
    },
    {
      "cell_type": "code",
      "source": [
        "#Adicionado a constante \n",
        "x_train = sm.add_constant(x_train)\n",
        "x_test = sm.add_constant(x_test)\n",
        "#Criando um modelo da familia binomial com ligação LOGIT\n",
        "glm_binom_logit = sm.GLM(y_train, x_train, family = sm.families.Binomial())\n",
        "resultado = glm_binom_logit.fit()\n",
        "print(resultado.summary())"
      ],
      "metadata": {
        "colab": {
          "base_uri": "https://localhost:8080/"
        },
        "id": "gfpeV5myNRKa",
        "outputId": "67c98001-af6b-4676-e9ac-2d06cb4b8ea3"
      },
      "execution_count": null,
      "outputs": [
        {
          "output_type": "stream",
          "name": "stderr",
          "text": [
            "/usr/local/lib/python3.7/dist-packages/statsmodels/tsa/tsatools.py:117: FutureWarning: In a future version of pandas all arguments of concat except for the argument 'objs' will be keyword-only\n",
            "  x = pd.concat(x[::order], 1)\n"
          ]
        },
        {
          "output_type": "stream",
          "name": "stdout",
          "text": [
            "                 Generalized Linear Model Regression Results                  \n",
            "==============================================================================\n",
            "Dep. Variable:                  obito   No. Observations:                24000\n",
            "Model:                            GLM   Df Residuals:                    23984\n",
            "Model Family:                Binomial   Df Model:                           15\n",
            "Link Function:                  logit   Scale:                          1.0000\n",
            "Method:                          IRLS   Log-Likelihood:                -2329.6\n",
            "Date:                Mon, 21 Mar 2022   Deviance:                       4659.1\n",
            "Time:                        06:46:51   Pearson chi2:                 1.88e+04\n",
            "No. Iterations:                     8                                         \n",
            "Covariance Type:            nonrobust                                         \n",
            "===========================================================================================\n",
            "                              coef    std err          z      P>|z|      [0.025      0.975]\n",
            "-------------------------------------------------------------------------------------------\n",
            "const                      -6.9466      0.165    -42.053      0.000      -7.270      -6.623\n",
            "asma                        1.4104      0.343      4.117      0.000       0.739       2.082\n",
            "cardiopatia                 0.8687      0.097      8.986      0.000       0.679       1.058\n",
            "diabetes                    0.6363      0.104      6.100      0.000       0.432       0.841\n",
            "doenca_hematologica         1.0352      0.954      1.085      0.278      -0.834       2.905\n",
            "doenca_hepatica             0.8945      0.561      1.594      0.111      -0.205       1.994\n",
            "doenca_neurologica          1.2107      0.285      4.242      0.000       0.651       1.770\n",
            "doenca_renal                1.3001      0.234      5.565      0.000       0.842       1.758\n",
            "imunodepressao              0.5243      0.277      1.890      0.059      -0.020       1.068\n",
            "obesidade                   1.9973      0.177     11.255      0.000       1.649       2.345\n",
            "outros_fatores_de_risco     1.8141      0.112     16.267      0.000       1.595       2.033\n",
            "pneumopatia                 0.6658      0.308      2.160      0.031       0.062       1.270\n",
            "puerpera                    2.4121      0.816      2.957      0.003       0.813       4.011\n",
            "sindrome_de_down            0.3276      1.292      0.254      0.800      -2.204       2.860\n",
            "idade                       0.0619      0.003     22.852      0.000       0.057       0.067\n",
            "FEMININO                   -0.5884      0.085     -6.946      0.000      -0.754      -0.422\n",
            "===========================================================================================\n"
          ]
        }
      ]
    },
    {
      "cell_type": "code",
      "source": [
        "np.exp(resultado.params)"
      ],
      "metadata": {
        "colab": {
          "base_uri": "https://localhost:8080/"
        },
        "id": "BUOS91hbNXzv",
        "outputId": "ba6e516a-6436-4aec-ffcc-accc3cae5796"
      },
      "execution_count": null,
      "outputs": [
        {
          "output_type": "execute_result",
          "data": {
            "text/plain": [
              "const                       0.000962\n",
              "asma                        4.097652\n",
              "cardiopatia                 2.383908\n",
              "diabetes                    1.889540\n",
              "doenca_hematologica         2.815754\n",
              "doenca_hepatica             2.446203\n",
              "doenca_neurologica          3.355716\n",
              "doenca_renal                3.669791\n",
              "imunodepressao              1.689338\n",
              "obesidade                   7.368923\n",
              "outros_fatores_de_risco     6.135291\n",
              "pneumopatia                 1.945994\n",
              "puerpera                   11.157434\n",
              "sindrome_de_down            1.387616\n",
              "idade                       1.063858\n",
              "FEMININO                    0.555221\n",
              "dtype: float64"
            ]
          },
          "metadata": {},
          "execution_count": 6
        }
      ]
    },
    {
      "cell_type": "markdown",
      "source": [
        "Métricas para esse modelo\n",
        "\n",
        "Para esse módelo vamos utilizar as métricas:\n",
        "\n",
        "\n",
        "\n",
        "\n",
        "\n",
        "\\begin{align}\n",
        "EQM = \\frac{1}{n}\\sum_{i=1}^n (\\widehat{y_i} - y_i)^2\n",
        "\\end{align}\n",
        "\n"
      ],
      "metadata": {
        "id": "fQh2YX9uOdkl"
      }
    },
    {
      "cell_type": "code",
      "source": [
        "print(f' EQM Logit Treino : {mse(y_train,resultado.predict(x_train))}')\n",
        "print(f' EQM Logit Teste : {mse(y_test,resultado.predict(x_test))}')"
      ],
      "metadata": {
        "colab": {
          "base_uri": "https://localhost:8080/"
        },
        "id": "NHnR4wKGN7O-",
        "outputId": "51255559-5894-41a7-a534-06bfb8e5fcac"
      },
      "execution_count": null,
      "outputs": [
        {
          "output_type": "stream",
          "name": "stdout",
          "text": [
            " EQM Logit Treino : 0.0254610044643155\n",
            " EQM Logit Teste : 0.029105413933212178\n"
          ]
        }
      ]
    },
    {
      "cell_type": "markdown",
      "source": [
        "Ligação PROBIT"
      ],
      "metadata": {
        "id": "OEtisjMbnIpG"
      }
    },
    {
      "cell_type": "code",
      "source": [
        "glm_binom1 = sm.GLM(y_train, x_train, family = sm.families.Binomial(link = sm.genmod.families.links.probit()))\n",
        "modelo_probit = glm_binom1.fit()\n",
        "print(modelo_probit.summary())"
      ],
      "metadata": {
        "id": "UZMBTaIknlvX",
        "colab": {
          "base_uri": "https://localhost:8080/"
        },
        "outputId": "3d1c94cf-9a69-4835-fb48-d30d94704ab1"
      },
      "execution_count": null,
      "outputs": [
        {
          "output_type": "stream",
          "name": "stdout",
          "text": [
            "                 Generalized Linear Model Regression Results                  \n",
            "==============================================================================\n",
            "Dep. Variable:                  obito   No. Observations:                24000\n",
            "Model:                            GLM   Df Residuals:                    23984\n",
            "Model Family:                Binomial   Df Model:                           15\n",
            "Link Function:                 probit   Scale:                          1.0000\n",
            "Method:                          IRLS   Log-Likelihood:                -2302.3\n",
            "Date:                Mon, 21 Mar 2022   Deviance:                       4604.6\n",
            "Time:                        06:46:52   Pearson chi2:                 2.54e+04\n",
            "No. Iterations:                     9                                         \n",
            "Covariance Type:            nonrobust                                         \n",
            "===========================================================================================\n",
            "                              coef    std err          z      P>|z|      [0.025      0.975]\n",
            "-------------------------------------------------------------------------------------------\n",
            "const                      -3.4522      0.074    -46.352      0.000      -3.598      -3.306\n",
            "asma                        0.7148      0.184      3.881      0.000       0.354       1.076\n",
            "cardiopatia                 0.4432      0.049      9.006      0.000       0.347       0.540\n",
            "diabetes                    0.3446      0.055      6.287      0.000       0.237       0.452\n",
            "doenca_hematologica         0.4147      0.555      0.748      0.455      -0.672       1.502\n",
            "doenca_hepatica             0.5319      0.324      1.639      0.101      -0.104       1.168\n",
            "doenca_neurologica          0.7247      0.162      4.479      0.000       0.408       1.042\n",
            "doenca_renal                0.7115      0.130      5.490      0.000       0.458       0.966\n",
            "imunodepressao              0.2586      0.146      1.772      0.076      -0.027       0.545\n",
            "obesidade                   1.0642      0.099     10.782      0.000       0.871       1.258\n",
            "outros_fatores_de_risco     0.9948      0.062     16.021      0.000       0.873       1.117\n",
            "pneumopatia                 0.4377      0.176      2.484      0.013       0.092       0.783\n",
            "puerpera                    1.2156      0.475      2.562      0.010       0.286       2.146\n",
            "sindrome_de_down            0.1765      0.710      0.248      0.804      -1.216       1.569\n",
            "idade                       0.0281      0.001     21.650      0.000       0.026       0.031\n",
            "FEMININO                   -0.2594      0.040     -6.457      0.000      -0.338      -0.181\n",
            "===========================================================================================\n"
          ]
        }
      ]
    },
    {
      "cell_type": "code",
      "source": [
        "np.exp(modelo_probit.params)"
      ],
      "metadata": {
        "colab": {
          "base_uri": "https://localhost:8080/"
        },
        "id": "JNFwH4Iy6yJa",
        "outputId": "22c1f46b-4cf0-4c04-a708-5ef01721d388"
      },
      "execution_count": null,
      "outputs": [
        {
          "output_type": "execute_result",
          "data": {
            "text/plain": [
              "const                      0.031676\n",
              "asma                       2.043718\n",
              "cardiopatia                1.557744\n",
              "diabetes                   1.411390\n",
              "doenca_hematologica        1.513905\n",
              "doenca_hepatica            1.702083\n",
              "doenca_neurologica         2.064191\n",
              "doenca_renal               2.037126\n",
              "imunodepressao             1.295071\n",
              "obesidade                  2.898514\n",
              "outros_fatores_de_risco    2.704211\n",
              "pneumopatia                1.549083\n",
              "puerpera                   3.372227\n",
              "sindrome_de_down           1.193082\n",
              "idade                      1.028523\n",
              "FEMININO                   0.771489\n",
              "dtype: float64"
            ]
          },
          "metadata": {},
          "execution_count": 9
        }
      ]
    },
    {
      "cell_type": "code",
      "source": [
        "print(f' EQM Probit Treino : {mse(y_train,modelo_probit.predict(x_train))}')\n",
        "print(f' EQM Probit Teste : {mse(y_test,modelo_probit.predict(x_test))}')\n",
        "print()"
      ],
      "metadata": {
        "colab": {
          "base_uri": "https://localhost:8080/"
        },
        "id": "halpYElL60at",
        "outputId": "1efd9944-7110-4c80-eae1-fe009252af7c"
      },
      "execution_count": null,
      "outputs": [
        {
          "output_type": "stream",
          "name": "stdout",
          "text": [
            " EQM Probit Treino : 0.025285697544527683\n",
            " EQM Probit Teste : 0.02891264050814435\n",
            "\n"
          ]
        }
      ]
    },
    {
      "cell_type": "markdown",
      "source": [
        "Visualização dos Resultados"
      ],
      "metadata": {
        "id": "QzXpx7FQ9WMg"
      }
    },
    {
      "cell_type": "code",
      "source": [
        "sns.set_theme(style = \"whitegrid\")\n",
        "\n",
        "resultados = {\"Ligação\":[\"Probit\",\"Probit\",\"Logit\",\"Logit\"],\"EQM\":[mse(y_train,modelo_probit.predict(x_train)),mse(y_test,modelo_probit.predict(x_test)),\n",
        "                                                                   mse(y_train,resultado.predict(x_train)),mse(y_test,resultado.predict(x_test))]\n",
        "              ,\"Tipo\":[\"Treino\",\"Teste\",\"Treino\",\"Teste\"]}\n",
        "df = pd.DataFrame(resultados)\n",
        "\n",
        "g = sns.catplot(\n",
        "    data= df, kind=\"bar\",\n",
        "    x=\"Ligação\", y=\"EQM\", hue=\"Tipo\",\n",
        "    ci=\"sd\", palette=\"dark\", alpha=.6, height=6\n",
        ")\n",
        "g.despine(left=True)\n",
        "plt.title(\"Comparação de EQM em cada Ligação\",size = 14)\n",
        "g.set_axis_labels(\"\", \"EQM\")\n",
        "g.legend.set_title(\"\")"
      ],
      "metadata": {
        "colab": {
          "base_uri": "https://localhost:8080/",
          "height": 437
        },
        "id": "MMWjHdpc85Oa",
        "outputId": "2bb63f70-3ce2-4e04-bd63-cb2e28e886d6"
      },
      "execution_count": null,
      "outputs": [
        {
          "output_type": "display_data",
          "data": {
            "text/plain": [
              "<Figure size 504.85x432 with 1 Axes>"
            ],
            "image/png": "[encoded data removed]"
          },
          "metadata": {}
        }
      ]
    },
    {
      "cell_type": "markdown",
      "source": [
        "##Modelo 2 : Amostragem Estratificada\n",
        "\n",
        "Para essa parte 70% das amostras foram recuperadas e 30% foram a óbito"
      ],
      "metadata": {
        "id": "HVvNXYOZ7EDy"
      }
    },
    {
      "cell_type": "code",
      "source": [
        "amos_estra = pd.read_csv(\"https://github.com/predict-icmc/covid19/raw/master/leitura-dados/ae.csv\")\n",
        "amos_estra.head()"
      ],
      "metadata": {
        "colab": {
          "base_uri": "https://localhost:8080/",
          "height": 288
        },
        "id": "J4ahMa_j7G_F",
        "outputId": "a6d052f3-ca1d-47b4-d4d4-88a9871b7c49"
      },
      "execution_count": null,
      "outputs": [
        {
          "output_type": "execute_result",
          "data": {
            "text/plain": [
              "   Unnamed: 0  asma  cardiopatia  diabetes  doenca_hematologica  \\\n",
              "0      371454     0            0         0                    0   \n",
              "1     2441254     0            0         0                    0   \n",
              "2     2926915     0            0         0                    0   \n",
              "3     2510490     0            1         1                    0   \n",
              "4      791890     0            1         1                    0   \n",
              "\n",
              "   doenca_hepatica  doenca_neurologica  doenca_renal  imunodepressao  \\\n",
              "0                0                   0             0               0   \n",
              "1                0                   1             0               0   \n",
              "2                0                   0             0               0   \n",
              "3                0                   0             0               0   \n",
              "4                0                   0             1               0   \n",
              "\n",
              "   obesidade  outros_fatores_de_risco  pneumopatia  puerpera  \\\n",
              "0          0                        1            0         0   \n",
              "1          0                        0            0         0   \n",
              "2          0                        0            0         0   \n",
              "3          0                        1            0         0   \n",
              "4          0                        1            0         0   \n",
              "\n",
              "   sindrome_de_down  idade  obito  FEMININO  IGNORADO  INDEFINIDO  MASCULINO  \n",
              "0                 0   76.0      1         0         0           0          1  \n",
              "1                 0   86.0      1         1         0           0          0  \n",
              "2                 0   42.0      1         0         0           0          1  \n",
              "3                 0   73.0      1         1         0           0          0  \n",
              "4                 0   75.0      1         0         0           0          1  "
            ],
            "text/html": [
              "\n",
              "  <div id=\"df-262c9896-2b3c-4f19-b2b6-02b27bca2855\">\n",
              "    <div class=\"colab-df-container\">\n",
              "      <div>\n",
              "<style scoped>\n",
              "    .dataframe tbody tr th:only-of-type {\n",
              "        vertical-align: middle;\n",
              "    }\n",
              "\n",
              "    .dataframe tbody tr th {\n",
              "        vertical-align: top;\n",
              "    }\n",
              "\n",
              "    .dataframe thead th {\n",
              "        text-align: right;\n",
              "    }\n",
              "</style>\n",
              "<table border=\"1\" class=\"dataframe\">\n",
              "  <thead>\n",
              "    <tr style=\"text-align: right;\">\n",
              "      <th></th>\n",
              "      <th>Unnamed: 0</th>\n",
              "      <th>asma</th>\n",
              "      <th>cardiopatia</th>\n",
              "      <th>diabetes</th>\n",
              "      <th>doenca_hematologica</th>\n",
              "      <th>doenca_hepatica</th>\n",
              "      <th>doenca_neurologica</th>\n",
              "      <th>doenca_renal</th>\n",
              "      <th>imunodepressao</th>\n",
              "      <th>obesidade</th>\n",
              "      <th>outros_fatores_de_risco</th>\n",
              "      <th>pneumopatia</th>\n",
              "      <th>puerpera</th>\n",
              "      <th>sindrome_de_down</th>\n",
              "      <th>idade</th>\n",
              "      <th>obito</th>\n",
              "      <th>FEMININO</th>\n",
              "      <th>IGNORADO</th>\n",
              "      <th>INDEFINIDO</th>\n",
              "      <th>MASCULINO</th>\n",
              "    </tr>\n",
              "  </thead>\n",
              "  <tbody>\n",
              "    <tr>\n",
              "      <th>0</th>\n",
              "      <td>371454</td>\n",
              "      <td>0</td>\n",
              "      <td>0</td>\n",
              "      <td>0</td>\n",
              "      <td>0</td>\n",
              "      <td>0</td>\n",
              "      <td>0</td>\n",
              "      <td>0</td>\n",
              "      <td>0</td>\n",
              "      <td>0</td>\n",
              "      <td>1</td>\n",
              "      <td>0</td>\n",
              "      <td>0</td>\n",
              "      <td>0</td>\n",
              "      <td>76.0</td>\n",
              "      <td>1</td>\n",
              "      <td>0</td>\n",
              "      <td>0</td>\n",
              "      <td>0</td>\n",
              "      <td>1</td>\n",
              "    </tr>\n",
              "    <tr>\n",
              "      <th>1</th>\n",
              "      <td>2441254</td>\n",
              "      <td>0</td>\n",
              "      <td>0</td>\n",
              "      <td>0</td>\n",
              "      <td>0</td>\n",
              "      <td>0</td>\n",
              "      <td>1</td>\n",
              "      <td>0</td>\n",
              "      <td>0</td>\n",
              "      <td>0</td>\n",
              "      <td>0</td>\n",
              "      <td>0</td>\n",
              "      <td>0</td>\n",
              "      <td>0</td>\n",
              "      <td>86.0</td>\n",
              "      <td>1</td>\n",
              "      <td>1</td>\n",
              "      <td>0</td>\n",
              "      <td>0</td>\n",
              "      <td>0</td>\n",
              "    </tr>\n",
              "    <tr>\n",
              "      <th>2</th>\n",
              "      <td>2926915</td>\n",
              "      <td>0</td>\n",
              "      <td>0</td>\n",
              "      <td>0</td>\n",
              "      <td>0</td>\n",
              "      <td>0</td>\n",
              "      <td>0</td>\n",
              "      <td>0</td>\n",
              "      <td>0</td>\n",
              "      <td>0</td>\n",
              "      <td>0</td>\n",
              "      <td>0</td>\n",
              "      <td>0</td>\n",
              "      <td>0</td>\n",
              "      <td>42.0</td>\n",
              "      <td>1</td>\n",
              "      <td>0</td>\n",
              "      <td>0</td>\n",
              "      <td>0</td>\n",
              "      <td>1</td>\n",
              "    </tr>\n",
              "    <tr>\n",
              "      <th>3</th>\n",
              "      <td>2510490</td>\n",
              "      <td>0</td>\n",
              "      <td>1</td>\n",
              "      <td>1</td>\n",
              "      <td>0</td>\n",
              "      <td>0</td>\n",
              "      <td>0</td>\n",
              "      <td>0</td>\n",
              "      <td>0</td>\n",
              "      <td>0</td>\n",
              "      <td>1</td>\n",
              "      <td>0</td>\n",
              "      <td>0</td>\n",
              "      <td>0</td>\n",
              "      <td>73.0</td>\n",
              "      <td>1</td>\n",
              "      <td>1</td>\n",
              "      <td>0</td>\n",
              "      <td>0</td>\n",
              "      <td>0</td>\n",
              "    </tr>\n",
              "    <tr>\n",
              "      <th>4</th>\n",
              "      <td>791890</td>\n",
              "      <td>0</td>\n",
              "      <td>1</td>\n",
              "      <td>1</td>\n",
              "      <td>0</td>\n",
              "      <td>0</td>\n",
              "      <td>0</td>\n",
              "      <td>1</td>\n",
              "      <td>0</td>\n",
              "      <td>0</td>\n",
              "      <td>1</td>\n",
              "      <td>0</td>\n",
              "      <td>0</td>\n",
              "      <td>0</td>\n",
              "      <td>75.0</td>\n",
              "      <td>1</td>\n",
              "      <td>0</td>\n",
              "      <td>0</td>\n",
              "      <td>0</td>\n",
              "      <td>1</td>\n",
              "    </tr>\n",
              "  </tbody>\n",
              "</table>\n",
              "</div>\n",
              "      <button class=\"colab-df-convert\" onclick=\"convertToInteractive('df-262c9896-2b3c-4f19-b2b6-02b27bca2855')\"\n",
              "              title=\"Convert this dataframe to an interactive table.\"\n",
              "              style=\"display:none;\">\n",
              "        \n",
              "  <svg xmlns=\"http://www.w3.org/2000/svg\" height=\"24px\"viewBox=\"0 0 24 24\"\n",
              "       width=\"24px\">\n",
              "    <path d=\"M0 0h24v24H0V0z\" fill=\"none\"/>\n",
              "    <path d=\"M18.56 5.44l.94 2.06.94-2.06 2.06-.94-2.06-.94-.94-2.06-.94 2.06-2.06.94zm-11 1L8.5 8.5l.94-2.06 2.06-.94-2.06-.94L8.5 2.5l-.94 2.06-2.06.94zm10 10l.94 2.06.94-2.06 2.06-.94-2.06-.94-.94-2.06-.94 2.06-2.06.94z\"/><path d=\"M17.41 7.96l-1.37-1.37c-.4-.4-.92-.59-1.43-.59-.52 0-1.04.2-1.43.59L10.3 9.45l-7.72 7.72c-.78.78-.78 2.05 0 2.83L4 21.41c.39.39.9.59 1.41.59.51 0 1.02-.2 1.41-.59l7.78-7.78 2.81-2.81c.8-.78.8-2.07 0-2.86zM5.41 20L4 18.59l7.72-7.72 1.47 1.35L5.41 20z\"/>\n",
              "  </svg>\n",
              "      </button>\n",
              "      \n",
              "  <style>\n",
              "    .colab-df-container {\n",
              "      display:flex;\n",
              "      flex-wrap:wrap;\n",
              "      gap: 12px;\n",
              "    }\n",
              "\n",
              "    .colab-df-convert {\n",
              "      background-color: #E8F0FE;\n",
              "      border: none;\n",
              "      border-radius: 50%;\n",
              "      cursor: pointer;\n",
              "      display: none;\n",
              "      fill: #1967D2;\n",
              "      height: 32px;\n",
              "      padding: 0 0 0 0;\n",
              "      width: 32px;\n",
              "    }\n",
              "\n",
              "    .colab-df-convert:hover {\n",
              "      background-color: #E2EBFA;\n",
              "      box-shadow: 0px 1px 2px rgba(60, 64, 67, 0.3), 0px 1px 3px 1px rgba(60, 64, 67, 0.15);\n",
              "      fill: #174EA6;\n",
              "    }\n",
              "\n",
              "    [theme=dark] .colab-df-convert {\n",
              "      background-color: #3B4455;\n",
              "      fill: #D2E3FC;\n",
              "    }\n",
              "\n",
              "    [theme=dark] .colab-df-convert:hover {\n",
              "      background-color: #434B5C;\n",
              "      box-shadow: 0px 1px 3px 1px rgba(0, 0, 0, 0.15);\n",
              "      filter: drop-shadow(0px 1px 2px rgba(0, 0, 0, 0.3));\n",
              "      fill: #FFFFFF;\n",
              "    }\n",
              "  </style>\n",
              "\n",
              "      <script>\n",
              "        const buttonEl =\n",
              "          document.querySelector('#df-262c9896-2b3c-4f19-b2b6-02b27bca2855 button.colab-df-convert');\n",
              "        buttonEl.style.display =\n",
              "          google.colab.kernel.accessAllowed ? 'block' : 'none';\n",
              "\n",
              "        async function convertToInteractive(key) {\n",
              "          const element = document.querySelector('#df-262c9896-2b3c-4f19-b2b6-02b27bca2855');\n",
              "          const dataTable =\n",
              "            await google.colab.kernel.invokeFunction('convertToInteractive',\n",
              "                                                     [key], {});\n",
              "          if (!dataTable) return;\n",
              "\n",
              "          const docLinkHtml = 'Like what you see? Visit the ' +\n",
              "            '<a target=\"_blank\" href=https://colab.research.google.com/notebooks/data_table.ipynb>data table notebook</a>'\n",
              "            + ' to learn more about interactive tables.';\n",
              "          element.innerHTML = '';\n",
              "          dataTable['output_type'] = 'display_data';\n",
              "          await google.colab.output.renderOutput(dataTable, element);\n",
              "          const docLink = document.createElement('div');\n",
              "          docLink.innerHTML = docLinkHtml;\n",
              "          element.appendChild(docLink);\n",
              "        }\n",
              "      </script>\n",
              "    </div>\n",
              "  </div>\n",
              "  "
            ]
          },
          "metadata": {},
          "execution_count": 12
        }
      ]
    },
    {
      "cell_type": "code",
      "source": [
        "amos_estra['obito'].value_counts(normalize = True)"
      ],
      "metadata": {
        "colab": {
          "base_uri": "https://localhost:8080/"
        },
        "id": "7J0w8Jka7HGr",
        "outputId": "328cf6bc-6524-4550-a807-2aefd400fa4c"
      },
      "execution_count": null,
      "outputs": [
        {
          "output_type": "execute_result",
          "data": {
            "text/plain": [
              "0    0.7\n",
              "1    0.3\n",
              "Name: obito, dtype: float64"
            ]
          },
          "metadata": {},
          "execution_count": 13
        }
      ]
    },
    {
      "cell_type": "code",
      "source": [
        "X = amos_estra.drop(['obito','IGNORADO','INDEFINIDO','MASCULINO','Unnamed: 0'],axis = 1)\n",
        "y = amos_estra['obito']\n",
        "\n",
        "#Vamos dividir em treino e teste\n",
        "p = 0.2 \n",
        "x_train, x_test, y_train, y_test = train_test_split(X, y, test_size = p, random_state = 42)"
      ],
      "metadata": {
        "id": "cb787j_l7yOU"
      },
      "execution_count": null,
      "outputs": []
    },
    {
      "cell_type": "markdown",
      "source": [
        "Ligação LOGIT\n",
        "\n",
        "\\begin{align}\n",
        "y = logit(x) = ln(\\frac{x}{1-x})\n",
        "\\end{align}"
      ],
      "metadata": {
        "id": "5GcPgxo67-3d"
      }
    },
    {
      "cell_type": "code",
      "source": [
        "#Adicionado a constante \n",
        "x_train = sm.add_constant(x_train)\n",
        "x_test = sm.add_constant(x_test)\n",
        "#Criando um modelo da familia binomial com ligação LOGIT\n",
        "glm_binom_logit = sm.GLM(y_train, x_train, family = sm.families.Binomial())\n",
        "resultado = glm_binom_logit.fit()\n",
        "print(resultado.summary())"
      ],
      "metadata": {
        "colab": {
          "base_uri": "https://localhost:8080/"
        },
        "id": "3ATxPoq67_s_",
        "outputId": "d6c6207e-e16c-492b-89c3-14354ed9839e"
      },
      "execution_count": null,
      "outputs": [
        {
          "output_type": "stream",
          "name": "stderr",
          "text": [
            "/usr/local/lib/python3.7/dist-packages/statsmodels/tsa/tsatools.py:117: FutureWarning: In a future version of pandas all arguments of concat except for the argument 'objs' will be keyword-only\n",
            "  x = pd.concat(x[::order], 1)\n"
          ]
        },
        {
          "output_type": "stream",
          "name": "stdout",
          "text": [
            "                 Generalized Linear Model Regression Results                  \n",
            "==============================================================================\n",
            "Dep. Variable:                  obito   No. Observations:                24000\n",
            "Model:                            GLM   Df Residuals:                    23984\n",
            "Model Family:                Binomial   Df Model:                           15\n",
            "Link Function:                  logit   Scale:                          1.0000\n",
            "Method:                          IRLS   Log-Likelihood:                -8007.4\n",
            "Date:                Mon, 21 Mar 2022   Deviance:                       16015.\n",
            "Time:                        06:46:54   Pearson chi2:                 3.63e+04\n",
            "No. Iterations:                     6                                         \n",
            "Covariance Type:            nonrobust                                         \n",
            "===========================================================================================\n",
            "                              coef    std err          z      P>|z|      [0.025      0.975]\n",
            "-------------------------------------------------------------------------------------------\n",
            "const                      -5.2049      0.079    -65.819      0.000      -5.360      -5.050\n",
            "asma                        1.0444      0.224      4.660      0.000       0.605       1.484\n",
            "cardiopatia                 0.9356      0.051     18.286      0.000       0.835       1.036\n",
            "diabetes                    0.6450      0.058     11.041      0.000       0.531       0.760\n",
            "doenca_hematologica         1.6357      0.381      4.298      0.000       0.890       2.382\n",
            "doenca_hepatica             2.3731      0.470      5.046      0.000       1.451       3.295\n",
            "doenca_neurologica          1.7480      0.230      7.608      0.000       1.298       2.198\n",
            "doenca_renal                1.3564      0.168      8.070      0.000       1.027       1.686\n",
            "imunodepressao              0.4726      0.173      2.726      0.006       0.133       0.812\n",
            "obesidade                   2.7338      0.119     22.933      0.000       2.500       2.967\n",
            "outros_fatores_de_risco     2.2832      0.076     30.129      0.000       2.135       2.432\n",
            "pneumopatia                 1.1512      0.190      6.045      0.000       0.778       1.524\n",
            "puerpera                    3.9910      0.633      6.300      0.000       2.749       5.233\n",
            "sindrome_de_down            3.6808      0.820      4.489      0.000       2.074       5.288\n",
            "idade                       0.0730      0.001     53.836      0.000       0.070       0.076\n",
            "FEMININO                   -0.5787      0.041    -14.168      0.000      -0.659      -0.499\n",
            "===========================================================================================\n"
          ]
        }
      ]
    },
    {
      "cell_type": "code",
      "source": [
        "np.exp(resultado.params)"
      ],
      "metadata": {
        "colab": {
          "base_uri": "https://localhost:8080/"
        },
        "id": "zdZfI2Gp8LGq",
        "outputId": "4746ef11-64d9-4f86-e149-f2a6e7ca1411"
      },
      "execution_count": null,
      "outputs": [
        {
          "output_type": "execute_result",
          "data": {
            "text/plain": [
              "const                       0.005489\n",
              "asma                        2.841808\n",
              "cardiopatia                 2.548701\n",
              "diabetes                    1.906007\n",
              "doenca_hematologica         5.133247\n",
              "doenca_hepatica            10.730441\n",
              "doenca_neurologica          5.743278\n",
              "doenca_renal                3.882356\n",
              "imunodepressao              1.604123\n",
              "obesidade                  15.391340\n",
              "outros_fatores_de_risco     9.808381\n",
              "pneumopatia                 3.162044\n",
              "puerpera                   54.108614\n",
              "sindrome_de_down           39.677712\n",
              "idade                       1.075692\n",
              "FEMININO                    0.560651\n",
              "dtype: float64"
            ]
          },
          "metadata": {},
          "execution_count": 16
        }
      ]
    },
    {
      "cell_type": "markdown",
      "source": [
        "Métricas"
      ],
      "metadata": {
        "id": "5VYfUVbM8Onc"
      }
    },
    {
      "cell_type": "code",
      "source": [
        "print(f' EQM LOGIT Treino : {mse(y_train,resultado.predict(x_train))}')\n",
        "print(f' EQM LOGIT Teste : {mse(y_test,resultado.predict(x_test))}')\n",
        "print()"
      ],
      "metadata": {
        "colab": {
          "base_uri": "https://localhost:8080/"
        },
        "id": "NuhkQatg8Lf1",
        "outputId": "6d6ed775-0af7-4ebd-d1e4-a968ea6d2ca2"
      },
      "execution_count": null,
      "outputs": [
        {
          "output_type": "stream",
          "name": "stdout",
          "text": [
            " EQM LOGIT Treino : 0.10163805353020933\n",
            " EQM LOGIT Teste : 0.10258561009360949\n",
            "\n"
          ]
        }
      ]
    },
    {
      "cell_type": "markdown",
      "source": [
        "Ligação PROBIT"
      ],
      "metadata": {
        "id": "TuxipZ1T8VsL"
      }
    },
    {
      "cell_type": "code",
      "source": [
        "glm_binom1 = sm.GLM(y_train, x_train, family = sm.families.Binomial(link = sm.genmod.families.links.probit()))\n",
        "modelo_probit = glm_binom1.fit()\n",
        "print(modelo_probit.summary())"
      ],
      "metadata": {
        "colab": {
          "base_uri": "https://localhost:8080/"
        },
        "id": "_bF5ZJPF8WFc",
        "outputId": "54d79ee7-ade4-46f6-9943-4097e8953a4b"
      },
      "execution_count": null,
      "outputs": [
        {
          "output_type": "stream",
          "name": "stdout",
          "text": [
            "                 Generalized Linear Model Regression Results                  \n",
            "==============================================================================\n",
            "Dep. Variable:                  obito   No. Observations:                24000\n",
            "Model:                            GLM   Df Residuals:                    23984\n",
            "Model Family:                Binomial   Df Model:                           15\n",
            "Link Function:                 probit   Scale:                          1.0000\n",
            "Method:                          IRLS   Log-Likelihood:                -8053.7\n",
            "Date:                Mon, 21 Mar 2022   Deviance:                       16107.\n",
            "Time:                        06:46:55   Pearson chi2:                 9.02e+04\n",
            "No. Iterations:                     9                                         \n",
            "Covariance Type:            nonrobust                                         \n",
            "===========================================================================================\n",
            "                              coef    std err          z      P>|z|      [0.025      0.975]\n",
            "-------------------------------------------------------------------------------------------\n",
            "const                      -2.9315      0.041    -72.050      0.000      -3.011      -2.852\n",
            "asma                        0.4716      0.122      3.855      0.000       0.232       0.711\n",
            "cardiopatia                 0.5279      0.029     18.012      0.000       0.470       0.585\n",
            "diabetes                    0.3645      0.033     10.969      0.000       0.299       0.430\n",
            "doenca_hematologica         0.7468      0.200      3.733      0.000       0.355       1.139\n",
            "doenca_hepatica             1.0524      0.216      4.883      0.000       0.630       1.475\n",
            "doenca_neurologica          0.8516      0.111      7.669      0.000       0.634       1.069\n",
            "doenca_renal                0.7186      0.089      8.031      0.000       0.543       0.894\n",
            "imunodepressao              0.2583      0.098      2.648      0.008       0.067       0.449\n",
            "obesidade                   1.3987      0.063     22.069      0.000       1.274       1.523\n",
            "outros_fatores_de_risco     1.2323      0.040     30.837      0.000       1.154       1.311\n",
            "pneumopatia                 0.6105      0.101      6.072      0.000       0.413       0.808\n",
            "puerpera                    2.2529      0.364      6.193      0.000       1.540       2.966\n",
            "sindrome_de_down            1.7356      0.410      4.229      0.000       0.931       2.540\n",
            "idade                       0.0408      0.001     56.337      0.000       0.039       0.042\n",
            "FEMININO                   -0.3175      0.022    -14.195      0.000      -0.361      -0.274\n",
            "===========================================================================================\n"
          ]
        }
      ]
    },
    {
      "cell_type": "code",
      "source": [
        "np.exp(modelo_probit.params)"
      ],
      "metadata": {
        "colab": {
          "base_uri": "https://localhost:8080/"
        },
        "id": "PLoI6pMr8ZGb",
        "outputId": "807d2a89-0b2c-4f9f-abcf-136327ca0dfd"
      },
      "execution_count": null,
      "outputs": [
        {
          "output_type": "execute_result",
          "data": {
            "text/plain": [
              "const                      0.053316\n",
              "asma                       1.602507\n",
              "cardiopatia                1.695328\n",
              "diabetes                   1.439761\n",
              "doenca_hematologica        2.110246\n",
              "doenca_hepatica            2.864389\n",
              "doenca_neurologica         2.343437\n",
              "doenca_renal               2.051655\n",
              "imunodepressao             1.294689\n",
              "obesidade                  4.049775\n",
              "outros_fatores_de_risco    3.429102\n",
              "pneumopatia                1.841434\n",
              "puerpera                   9.515565\n",
              "sindrome_de_down           5.672523\n",
              "idade                      1.041616\n",
              "FEMININO                   0.727943\n",
              "dtype: float64"
            ]
          },
          "metadata": {},
          "execution_count": 19
        }
      ]
    },
    {
      "cell_type": "code",
      "source": [
        "print(f' EQM Probit Treino : {mse(y_train,modelo_probit.predict(x_train))}')\n",
        "print(f' EQM Probit Teste : {mse(y_test,modelo_probit.predict(x_test))}')"
      ],
      "metadata": {
        "colab": {
          "base_uri": "https://localhost:8080/"
        },
        "id": "TSbFVZb48atb",
        "outputId": "1630cb45-e647-40d1-cb55-1ed52b5ae68c"
      },
      "execution_count": null,
      "outputs": [
        {
          "output_type": "stream",
          "name": "stdout",
          "text": [
            " EQM Probit Treino : 0.10233209054306489\n",
            " EQM Probit Teste : 0.10331743647047456\n"
          ]
        }
      ]
    },
    {
      "cell_type": "markdown",
      "source": [
        "Visualização dos Resultados"
      ],
      "metadata": {
        "id": "a_Mhi7U_BPyn"
      }
    },
    {
      "cell_type": "code",
      "source": [
        "sns.set_theme(style = \"whitegrid\")\n",
        "\n",
        "resultados = {\"Ligação\":[\"Probit\",\"Probit\",\"Logit\",\"Logit\"],\"EQM\":[mse(y_train,modelo_probit.predict(x_train)),mse(y_test,modelo_probit.predict(x_test)),\n",
        "                                                                   mse(y_train,resultado.predict(x_train)),mse(y_test,resultado.predict(x_test))]\n",
        "              ,\"Tipo\":[\"Treino\",\"Teste\",\"Treino\",\"Teste\"]}\n",
        "df = pd.DataFrame(resultados)\n",
        "\n",
        "h = sns.catplot(\n",
        "    data= df, kind=\"bar\",\n",
        "    x=\"Ligação\", y=\"EQM\", hue=\"Tipo\",\n",
        "    ci=\"sd\", palette=\"dark\", alpha=.6, height=6\n",
        ")\n",
        "h.despine(left=True)\n",
        "plt.title(\"Comparação de EQM em cada Ligação\",size = 14)\n",
        "h.set_axis_labels(\"\", \"EQM\")\n",
        "h.legend.set_title(\"\")"
      ],
      "metadata": {
        "colab": {
          "base_uri": "https://localhost:8080/",
          "height": 437
        },
        "id": "PBZpbIfhBPY3",
        "outputId": "30a49bd8-fc08-418e-b545-6cbf49538ddc"
      },
      "execution_count": null,
      "outputs": [
        {
          "output_type": "display_data",
          "data": {
            "text/plain": [
              "<Figure size 504.85x432 with 1 Axes>"
            ],
            "image/png": "[encoded data removed]"
          },
          "metadata": {}
        }
      ]
    },
    {
      "cell_type": "code",
      "source": [
        ""
      ],
      "metadata": {
        "id": "yWir3aN5F9ia"
      },
      "execution_count": null,
      "outputs": []
    }
  ]
}